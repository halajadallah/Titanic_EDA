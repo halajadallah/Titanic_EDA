{
 "cells": [
  {
   "cell_type": "markdown",
   "metadata": {},
   "source": [
    "# Titanic Dataset Analysis\n",
    "#### by Hala Jadallah\n",
    "\n",
    "## Introduction: \n",
    "\n",
    "In this project we are concerned with analyzing the Titanic dataset. We first consider some questions of interest. The Titanic sailed from England, hit an iceberg and sank. Most passengers died, but some survived. \n",
    "\n",
    "The dataset has the following variables: \n",
    "\n",
    "Pclass: determines the socioeconomic class of the passengers, either lower (Pclass =3), middle (Pclass =2) or upper (Pclass =1).\n",
    "\n",
    "Sex (male/female), Age (years), Survived (survived=1, died=0), Ticket (a code),\n",
    "Emabrked (site of embarkation S = Southampton, C=Chergorg, Q = Queenstown), \n",
    "Cabin (a code), Name (passenger name), Parch (number of parents or children on board), \n",
    "SibSp (number of siblings or spouse on board). \n",
    "\n",
    "After a quick look at the data I decided to use the following methodology: \n",
    "\n",
    "Level zero: What are the missing values in the data set? Of which variables? Are there any special characteristics of passengers whose value are missing?\n",
    "\n",
    "I intend explore the data at two levels.\n",
    "\n",
    "Level I: What are the general characteristics of those who aboarded the Titanic? \n",
    "1. In terms of gender, age and socioeconomic (SE) parameters.\n",
    "2. how many are traveling alone? how many with companion? with chirdren?\n",
    "3. Across the Pclass of tickets how does the fare range?\n",
    "\n",
    "Level II: What are the characterics of those who survived?\n",
    "1. If survived, did any related companions survive too?\n",
    "2. If survived, how many where traveling alone?\n",
    "3. what is the age, gender of those who survived? \n",
    "4. Is there any relation between fare or Pclass and survival?\n",
    "5. Is there relation between the site they embarked and survivial?\n",
    "6. Is there any relation between cabin location and survival? This requires the map of the ship to explain any relation.\n",
    " \n",
    "I intend to explore and investigate the Titanic dataset, to find interesting relations among the many variables invovled. I will use various plots for easy visualization of the ralations."
   ]
  },
  {
   "cell_type": "code",
   "execution_count": 2,
   "metadata": {
    "collapsed": true
   },
   "outputs": [],
   "source": [
    "%matplotlib inline"
   ]
  },
  {
   "cell_type": "code",
   "execution_count": 3,
   "metadata": {
    "collapsed": false
   },
   "outputs": [],
   "source": [
    "import numpy as np\n",
    "import pandas as pd\n",
    "import matplotlib as mpl\n",
    "import matplotlib.pyplot as plt\n",
    "import seaborn as sns\n",
    "\n",
    "plt.style.use('ggplot')\n",
    "#sns.set(style=\"whitegrid\", color_codes=True) ## white background (bkgd) with grid \n",
    "#sns.set(style=\"darkgrid\", color_codes=True) ## dark bkgd with grid\n",
    "#sns.set(style=\"white\", color_codes=True)   ## white bkgd no grid\n",
    "#sns.set(style=\"dark\", color_codes=True)    ## dark bkgd no grid\n",
    "#sns.set(style=\"ticks\", color_codes=True)  ## ticks give a little structure to the plot\n",
    "\n",
    "filename = 'titanic_data.csv'\n",
    "titanic_df = pd.read_csv(filename)"
   ]
  },
  {
   "cell_type": "markdown",
   "metadata": {},
   "source": [
    "## Priliminary Exploration\n",
    "Let's have a look at the variables included in this data set. "
   ]
  },
  {
   "cell_type": "code",
   "execution_count": 4,
   "metadata": {
    "collapsed": false
   },
   "outputs": [
    {
     "data": {
      "text/html": [
       "<div>\n",
       "<table border=\"1\" class=\"dataframe\">\n",
       "  <thead>\n",
       "    <tr style=\"text-align: right;\">\n",
       "      <th></th>\n",
       "      <th>PassengerId</th>\n",
       "      <th>Survived</th>\n",
       "      <th>Pclass</th>\n",
       "      <th>Name</th>\n",
       "      <th>Sex</th>\n",
       "      <th>Age</th>\n",
       "      <th>SibSp</th>\n",
       "      <th>Parch</th>\n",
       "      <th>Ticket</th>\n",
       "      <th>Fare</th>\n",
       "      <th>Cabin</th>\n",
       "      <th>Embarked</th>\n",
       "    </tr>\n",
       "  </thead>\n",
       "  <tbody>\n",
       "    <tr>\n",
       "      <th>0</th>\n",
       "      <td>1</td>\n",
       "      <td>0</td>\n",
       "      <td>3</td>\n",
       "      <td>Braund, Mr. Owen Harris</td>\n",
       "      <td>male</td>\n",
       "      <td>22.0</td>\n",
       "      <td>1</td>\n",
       "      <td>0</td>\n",
       "      <td>A/5 21171</td>\n",
       "      <td>7.2500</td>\n",
       "      <td>NaN</td>\n",
       "      <td>S</td>\n",
       "    </tr>\n",
       "    <tr>\n",
       "      <th>1</th>\n",
       "      <td>2</td>\n",
       "      <td>1</td>\n",
       "      <td>1</td>\n",
       "      <td>Cumings, Mrs. John Bradley (Florence Briggs Th...</td>\n",
       "      <td>female</td>\n",
       "      <td>38.0</td>\n",
       "      <td>1</td>\n",
       "      <td>0</td>\n",
       "      <td>PC 17599</td>\n",
       "      <td>71.2833</td>\n",
       "      <td>C85</td>\n",
       "      <td>C</td>\n",
       "    </tr>\n",
       "    <tr>\n",
       "      <th>2</th>\n",
       "      <td>3</td>\n",
       "      <td>1</td>\n",
       "      <td>3</td>\n",
       "      <td>Heikkinen, Miss. Laina</td>\n",
       "      <td>female</td>\n",
       "      <td>26.0</td>\n",
       "      <td>0</td>\n",
       "      <td>0</td>\n",
       "      <td>STON/O2. 3101282</td>\n",
       "      <td>7.9250</td>\n",
       "      <td>NaN</td>\n",
       "      <td>S</td>\n",
       "    </tr>\n",
       "    <tr>\n",
       "      <th>3</th>\n",
       "      <td>4</td>\n",
       "      <td>1</td>\n",
       "      <td>1</td>\n",
       "      <td>Futrelle, Mrs. Jacques Heath (Lily May Peel)</td>\n",
       "      <td>female</td>\n",
       "      <td>35.0</td>\n",
       "      <td>1</td>\n",
       "      <td>0</td>\n",
       "      <td>113803</td>\n",
       "      <td>53.1000</td>\n",
       "      <td>C123</td>\n",
       "      <td>S</td>\n",
       "    </tr>\n",
       "    <tr>\n",
       "      <th>4</th>\n",
       "      <td>5</td>\n",
       "      <td>0</td>\n",
       "      <td>3</td>\n",
       "      <td>Allen, Mr. William Henry</td>\n",
       "      <td>male</td>\n",
       "      <td>35.0</td>\n",
       "      <td>0</td>\n",
       "      <td>0</td>\n",
       "      <td>373450</td>\n",
       "      <td>8.0500</td>\n",
       "      <td>NaN</td>\n",
       "      <td>S</td>\n",
       "    </tr>\n",
       "  </tbody>\n",
       "</table>\n",
       "</div>"
      ],
      "text/plain": [
       "   PassengerId  Survived  Pclass  \\\n",
       "0            1         0       3   \n",
       "1            2         1       1   \n",
       "2            3         1       3   \n",
       "3            4         1       1   \n",
       "4            5         0       3   \n",
       "\n",
       "                                                Name     Sex   Age  SibSp  \\\n",
       "0                            Braund, Mr. Owen Harris    male  22.0      1   \n",
       "1  Cumings, Mrs. John Bradley (Florence Briggs Th...  female  38.0      1   \n",
       "2                             Heikkinen, Miss. Laina  female  26.0      0   \n",
       "3       Futrelle, Mrs. Jacques Heath (Lily May Peel)  female  35.0      1   \n",
       "4                           Allen, Mr. William Henry    male  35.0      0   \n",
       "\n",
       "   Parch            Ticket     Fare Cabin Embarked  \n",
       "0      0         A/5 21171   7.2500   NaN        S  \n",
       "1      0          PC 17599  71.2833   C85        C  \n",
       "2      0  STON/O2. 3101282   7.9250   NaN        S  \n",
       "3      0            113803  53.1000  C123        S  \n",
       "4      0            373450   8.0500   NaN        S  "
      ]
     },
     "execution_count": 4,
     "metadata": {},
     "output_type": "execute_result"
    }
   ],
   "source": [
    "titanic_df.head()"
   ]
  },
  {
   "cell_type": "code",
   "execution_count": 5,
   "metadata": {
    "collapsed": false
   },
   "outputs": [
    {
     "data": {
      "text/plain": [
       "PassengerId       int64\n",
       "Survived          int64\n",
       "Pclass            int64\n",
       "Name             object\n",
       "Sex            category\n",
       "Age             float64\n",
       "SibSp             int64\n",
       "Parch             int64\n",
       "Ticket           object\n",
       "Fare            float64\n",
       "Cabin            object\n",
       "Embarked         object\n",
       "dtype: object"
      ]
     },
     "execution_count": 5,
     "metadata": {},
     "output_type": "execute_result"
    }
   ],
   "source": [
    "titanic_df['Sex']=titanic_df['Sex'].astype('category')\n",
    "titanic_df.dtypes"
   ]
  },
  {
   "cell_type": "markdown",
   "metadata": {},
   "source": [
    "The table below shows the describution of available data across social class and Sex. "
   ]
  },
  {
   "cell_type": "code",
   "execution_count": 6,
   "metadata": {
    "collapsed": false
   },
   "outputs": [
    {
     "data": {
      "text/html": [
       "<div>\n",
       "<table border=\"1\" class=\"dataframe\">\n",
       "  <thead>\n",
       "    <tr style=\"text-align: right;\">\n",
       "      <th></th>\n",
       "      <th></th>\n",
       "      <th>PassengerId</th>\n",
       "      <th>Survived</th>\n",
       "      <th>Pclass</th>\n",
       "      <th>Name</th>\n",
       "      <th>Age</th>\n",
       "      <th>SibSp</th>\n",
       "      <th>Parch</th>\n",
       "      <th>Ticket</th>\n",
       "      <th>Fare</th>\n",
       "      <th>Cabin</th>\n",
       "      <th>Embarked</th>\n",
       "      <th>Survival status</th>\n",
       "    </tr>\n",
       "    <tr>\n",
       "      <th>Sex</th>\n",
       "      <th>Class</th>\n",
       "      <th></th>\n",
       "      <th></th>\n",
       "      <th></th>\n",
       "      <th></th>\n",
       "      <th></th>\n",
       "      <th></th>\n",
       "      <th></th>\n",
       "      <th></th>\n",
       "      <th></th>\n",
       "      <th></th>\n",
       "      <th></th>\n",
       "      <th></th>\n",
       "    </tr>\n",
       "  </thead>\n",
       "  <tbody>\n",
       "    <tr>\n",
       "      <th rowspan=\"3\" valign=\"top\">female</th>\n",
       "      <th>Lower</th>\n",
       "      <td>144</td>\n",
       "      <td>144</td>\n",
       "      <td>144</td>\n",
       "      <td>144</td>\n",
       "      <td>102</td>\n",
       "      <td>144</td>\n",
       "      <td>144</td>\n",
       "      <td>144</td>\n",
       "      <td>144</td>\n",
       "      <td>6</td>\n",
       "      <td>144</td>\n",
       "      <td>144</td>\n",
       "    </tr>\n",
       "    <tr>\n",
       "      <th>Middle</th>\n",
       "      <td>76</td>\n",
       "      <td>76</td>\n",
       "      <td>76</td>\n",
       "      <td>76</td>\n",
       "      <td>74</td>\n",
       "      <td>76</td>\n",
       "      <td>76</td>\n",
       "      <td>76</td>\n",
       "      <td>76</td>\n",
       "      <td>10</td>\n",
       "      <td>76</td>\n",
       "      <td>76</td>\n",
       "    </tr>\n",
       "    <tr>\n",
       "      <th>Upper</th>\n",
       "      <td>94</td>\n",
       "      <td>94</td>\n",
       "      <td>94</td>\n",
       "      <td>94</td>\n",
       "      <td>85</td>\n",
       "      <td>94</td>\n",
       "      <td>94</td>\n",
       "      <td>94</td>\n",
       "      <td>94</td>\n",
       "      <td>81</td>\n",
       "      <td>92</td>\n",
       "      <td>94</td>\n",
       "    </tr>\n",
       "    <tr>\n",
       "      <th rowspan=\"3\" valign=\"top\">male</th>\n",
       "      <th>Lower</th>\n",
       "      <td>347</td>\n",
       "      <td>347</td>\n",
       "      <td>347</td>\n",
       "      <td>347</td>\n",
       "      <td>253</td>\n",
       "      <td>347</td>\n",
       "      <td>347</td>\n",
       "      <td>347</td>\n",
       "      <td>347</td>\n",
       "      <td>6</td>\n",
       "      <td>347</td>\n",
       "      <td>347</td>\n",
       "    </tr>\n",
       "    <tr>\n",
       "      <th>Middle</th>\n",
       "      <td>108</td>\n",
       "      <td>108</td>\n",
       "      <td>108</td>\n",
       "      <td>108</td>\n",
       "      <td>99</td>\n",
       "      <td>108</td>\n",
       "      <td>108</td>\n",
       "      <td>108</td>\n",
       "      <td>108</td>\n",
       "      <td>6</td>\n",
       "      <td>108</td>\n",
       "      <td>108</td>\n",
       "    </tr>\n",
       "    <tr>\n",
       "      <th>Upper</th>\n",
       "      <td>122</td>\n",
       "      <td>122</td>\n",
       "      <td>122</td>\n",
       "      <td>122</td>\n",
       "      <td>101</td>\n",
       "      <td>122</td>\n",
       "      <td>122</td>\n",
       "      <td>122</td>\n",
       "      <td>122</td>\n",
       "      <td>95</td>\n",
       "      <td>122</td>\n",
       "      <td>122</td>\n",
       "    </tr>\n",
       "  </tbody>\n",
       "</table>\n",
       "</div>"
      ],
      "text/plain": [
       "               PassengerId  Survived  Pclass  Name  Age  SibSp  Parch  Ticket  \\\n",
       "Sex    Class                                                                    \n",
       "female Lower           144       144     144   144  102    144    144     144   \n",
       "       Middle           76        76      76    76   74     76     76      76   \n",
       "       Upper            94        94      94    94   85     94     94      94   \n",
       "male   Lower           347       347     347   347  253    347    347     347   \n",
       "       Middle          108       108     108   108   99    108    108     108   \n",
       "       Upper           122       122     122   122  101    122    122     122   \n",
       "\n",
       "               Fare  Cabin  Embarked  Survival status  \n",
       "Sex    Class                                           \n",
       "female Lower    144      6       144              144  \n",
       "       Middle    76     10        76               76  \n",
       "       Upper     94     81        92               94  \n",
       "male   Lower    347      6       347              347  \n",
       "       Middle   108      6       108              108  \n",
       "       Upper    122     95       122              122  "
      ]
     },
     "execution_count": 6,
     "metadata": {},
     "output_type": "execute_result"
    }
   ],
   "source": [
    "# Define a new vaiable class with class code as lower, middle and upper\n",
    "\n",
    "titanic_df['Class'] = titanic_df['Pclass'].astype('object')\n",
    "titanic_df['Class'].replace({1:'Upper', 2:'Middle', 3:'Lower'},inplace=True)\n",
    "\n",
    "titanic_df['Survival status'] = titanic_df['Survived'].astype('object')\n",
    "titanic_df['Survival status'].replace({0:'Died', 1:'Survived'},inplace=True)\n",
    "\n",
    "titanic_df_group_by_class_sex = titanic_df.groupby(['Sex','Class'])\n",
    "\n",
    "# the table of counts of data help us to see where the missing values are by sex and class\n",
    "titanic_df_group_by_class_sex.count()"
   ]
  },
  {
   "cell_type": "markdown",
   "metadata": {},
   "source": [
    "## Missing Data investigation\n",
    "A quick scan shows that there are some missing values. \n",
    "\n",
    "We observe from the table above that Age, Cabin and Embarked have some missing values. In particular Embarked have 2 female passengers from the upper social class. There are more cabin records for upper class passengers than the other two classes. \n",
    "\n",
    "We wish to know more about these missing value."
   ]
  },
  {
   "cell_type": "code",
   "execution_count": 35,
   "metadata": {
    "collapsed": false
   },
   "outputs": [
    {
     "name": "stdout",
     "output_type": "stream",
     "text": [
      "In this dataset: \n",
      "There are  891 passengers\n",
      "where 177  are missing AGE records\n",
      "Number of passengers in SE classes whose age is available in record:\n",
      "1    186\n",
      "2    173\n",
      "3    355\n",
      "Name: Pclass, dtype: int64\n",
      "Number of passengers by survival\n",
      "0    125\n",
      "1     52\n",
      "Name: Survived, dtype: int64\n",
      "Number of passengers by sex\n",
      "female     53\n",
      "male      124\n",
      "Name: Sex, dtype: int64\n",
      "Number of passengers by the number of siblings or spouse on board\n",
      "0    137\n",
      "1     26\n",
      "2      3\n",
      "3      4\n",
      "8      7\n",
      "Name: SibSp, dtype: int64\n",
      "Number of passengers by the number of parent or child on board\n",
      "0    157\n",
      "1      8\n",
      "2     12\n",
      "Name: Parch, dtype: int64\n",
      "Titanic passengers with missing age breakdown by survival, sex and SE :\n",
      "Survived  Sex     Pclass\n",
      "0         female  3         17\n",
      "          male    1         16\n",
      "                  2          7\n",
      "                  3         85\n",
      "1         female  1          9\n",
      "                  2          2\n",
      "                  3         25\n",
      "          male    1          5\n",
      "                  2          2\n",
      "                  3          9\n",
      "Name: PassengerId, dtype: int64\n",
      "Survived  Sex     Parch\n",
      "0         female  0          8\n",
      "                  1          3\n",
      "                  2          6\n",
      "          male    0        102\n",
      "                  1          1\n",
      "                  2          5\n",
      "1         female  0         33\n",
      "                  1          2\n",
      "                  2          1\n",
      "          male    0         14\n",
      "                  1          2\n",
      "Name: PassengerId, dtype: int64\n",
      "Survived  Sex     SibSp\n",
      "0         female  0         8\n",
      "                  1         3\n",
      "                  3         3\n",
      "                  8         3\n",
      "          male    0        94\n",
      "                  1         8\n",
      "                  2         1\n",
      "                  3         1\n",
      "                  8         4\n",
      "1         female  0        22\n",
      "                  1        13\n",
      "                  2         1\n",
      "          male    0        13\n",
      "                  1         2\n",
      "                  2         1\n",
      "Name: PassengerId, dtype: int64\n"
     ]
    }
   ],
   "source": [
    "# missing Age records\n",
    "s = titanic_df['Age'].isnull()\n",
    "print 'In this dataset: '\n",
    "print 'There are ',len(s), 'passengers'\n",
    "print 'where',len(titanic_df['Age'][s]), ' are missing AGE records'\n",
    "\n",
    "\n",
    "# age values available in record\n",
    "index_age_in = titanic_df['Age'].index[~s]\n",
    "\n",
    "print 'Number of passengers in SE classes whose age is available in record:'\n",
    "titanic_df['Pclass']=titanic_df['Pclass'].astype('category')\n",
    "print titanic_df['Pclass'][index_age_in].value_counts(sort = False)\n",
    "\n",
    "#age values missing\n",
    "index_age_nan = titanic_df['Age'].index[s]\n",
    "\n",
    "print 'Number of passengers by survival'\n",
    "print titanic_df['Survived'][s].value_counts(sort = False)\n",
    "\n",
    "print 'Number of passengers by sex' \n",
    "print titanic_df['Sex'][index_age_nan].value_counts(sort=False)\n",
    "\n",
    "print 'Number of passengers by the number of siblings or spouse on board'\n",
    "print titanic_df['SibSp'][s].value_counts(sort = False)\n",
    "\n",
    "print 'Number of passengers by the number of parent or child on board'\n",
    "print titanic_df['Parch'][s].value_counts(sort = False)\n",
    "\n",
    "# data frame of passengers with missing age\n",
    "T_noAge_df=titanic_df.iloc[index_age_nan]\n",
    "\n",
    "print 'Titanic passengers with missing age breakdown by survival, sex and SE :'\n",
    "print T_noAge_df.groupby(['Survived','Sex','Pclass'])['PassengerId'].count()\n",
    "print T_noAge_df.groupby(['Survived','Sex','Parch'])['PassengerId'].count()\n",
    "print T_noAge_df.groupby(['Survived','Sex','SibSp'])['PassengerId'].count()\n",
    "\n"
   ]
  },
  {
   "cell_type": "code",
   "execution_count": 18,
   "metadata": {
    "collapsed": false
   },
   "outputs": [
    {
     "name": "stdout",
     "output_type": "stream",
     "text": [
      "There are  687  missing CABIN records\n",
      "Number of passengers in each of the SE classes whose cabin record is missing:\n",
      "1     40\n",
      "2    168\n",
      "3    479\n",
      "Name: Pclass, dtype: int64\n",
      "\n",
      " Number of passengers in each of the SE classes whose cabin is in record:\n",
      "1    176\n",
      "2     16\n",
      "3     12\n",
      "Name: Pclass, dtype: int64\n"
     ]
    }
   ],
   "source": [
    "# missing cabin values\n",
    "sc = titanic_df['Cabin'].isnull()\n",
    "print 'There are ', len(titanic_df['Cabin'][sc]), ' missing CABIN records'\n",
    "index_cabin_nan = titanic_df['Cabin'].index[sc]\n",
    "index_cabin_in = titanic_df['Cabin'].index[~sc]\n",
    "\n",
    "print 'Number of passengers in each of the SE classes whose cabin record is missing:'\n",
    "print titanic_df['Pclass'][index_cabin_nan].value_counts(sort = False)\n",
    "\n",
    "print '\\n Number of passengers in each of the SE classes whose cabin is in record:'\n",
    "print titanic_df['Pclass'][index_cabin_in].value_counts(sort = False)\n"
   ]
  },
  {
   "cell_type": "code",
   "execution_count": 22,
   "metadata": {
    "collapsed": false
   },
   "outputs": [
    {
     "name": "stdout",
     "output_type": "stream",
     "text": [
      "There are  2  missing EMBARKED records\n",
      "SE classes whose embarked record is missing:\n",
      "1    2\n",
      "Name: Pclass, dtype: int64\n",
      "Number of passengers who servived whose embarked record is missing\n",
      "1    2\n",
      "Name: Survived, dtype: int64\n",
      "Number of passegers by the number of siblings or spouse on board\n",
      "0    2\n",
      "Name: SibSp, dtype: int64\n",
      "Number of passegers by the number of parent or child on board\n",
      "0    2\n",
      "Name: Parch, dtype: int64\n",
      "\n",
      " Number of passengers embarked from each of the three ports and whose embarked record is available: \n",
      "C    168\n",
      "Q     77\n",
      "S    644\n",
      "Name: Embarked, dtype: int64\n"
     ]
    }
   ],
   "source": [
    "# missing embarked values\n",
    "se = titanic_df['Embarked'].isnull()\n",
    "print 'There are ', len(titanic_df['Embarked'][se]), ' missing EMBARKED records'\n",
    "index_embarked_nan = titanic_df['Embarked'].index[se]\n",
    "index_embarked_in = titanic_df['Embarked'].index[~se]\n",
    "\n",
    "print 'SE classes whose embarked record is missing:'\n",
    "print titanic_df['Pclass'][index_embarked_nan].value_counts(sort=False)\n",
    "\n",
    "print 'Number of passengers who servived whose embarked record is missing'\n",
    "print titanic_df['Survived'][index_embarked_nan].value_counts(sort = False)\n",
    "\n",
    "print 'Number of passegers by the number of siblings or spouse on board'\n",
    "print titanic_df['SibSp'][index_embarked_nan].value_counts(sort = False)\n",
    "\n",
    "print 'Number of passegers by the number of parent or child on board'\n",
    "print titanic_df['Parch'][index_embarked_nan].value_counts(sort = False)\n",
    "\n",
    "\n",
    "print '\\n Number of passengers embarked from each of the three ports and whose embarked record is available: '\n",
    "print titanic_df['Embarked'][index_embarked_in].value_counts(sort=False)"
   ]
  },
  {
   "cell_type": "code",
   "execution_count": 34,
   "metadata": {
    "collapsed": false
   },
   "outputs": [
    {
     "name": "stdout",
     "output_type": "stream",
     "text": [
      "count    714.000000\n",
      "mean      29.699118\n",
      "std       14.526497\n",
      "min        0.420000\n",
      "25%       20.125000\n",
      "50%       28.000000\n",
      "75%       38.000000\n",
      "max       80.000000\n",
      "Name: Age, dtype: float64\n",
      "Pclass       \n",
      "1       count    186.000000\n",
      "        mean      38.233441\n",
      "        std       14.802856\n",
      "        min        0.920000\n",
      "        25%       27.000000\n",
      "        50%       37.000000\n",
      "        75%       49.000000\n",
      "        max       80.000000\n",
      "2       count    173.000000\n",
      "        mean      29.877630\n",
      "        std       14.001077\n",
      "        min        0.670000\n",
      "        25%       23.000000\n",
      "        50%       29.000000\n",
      "        75%       36.000000\n",
      "        max       70.000000\n",
      "3       count    355.000000\n",
      "        mean      25.140620\n",
      "        std       12.495398\n",
      "        min        0.420000\n",
      "        25%       18.000000\n",
      "        50%       24.000000\n",
      "        75%       32.000000\n",
      "        max       74.000000\n",
      "Name: Age, dtype: float64\n"
     ]
    }
   ],
   "source": [
    "# Age values summaries\n",
    "print titanic_df['Age'].describe()\n",
    "print(titanic_df.groupby('Pclass')['Age'].describe())"
   ]
  },
  {
   "cell_type": "markdown",
   "metadata": {},
   "source": [
    "We learn that there are 177 passengers whose age is not recorded. The median age recorded is 28 and we know that 75% of the passengers with known age is 38 years or less. The mean\n",
    "is about 30 years and the standard deviation is 14.5 years. This implies that, within two standard deviation we have all people in the range of 1 to 59 years old. This is 97.5% of the passengers. As we will see below there are 22 passengers who are over 60 years old. The maximum age of a passenger on board is 80 years. \n",
    "\n",
    "We would like to identify which socio-economic (SE) class, sex and survived passenger do those of missing age belong.\n",
    "Below is a bar chart that show they come mainly from lowest SE class and they tend to be males. \n",
    "Observe also that the females in this group who did not survive are all from the lower class.\n",
    "Morevoer, 71% of those whose age is missing did not servive. \n",
    "\n",
    "Clearly the data is biased against those who did not survive, those who belong to the lower social class and against males. When did they make a record of the age? one wonders, was it before boarding the ship or after the disaster occured so that while searching for the missing not every passenger's age was recorded. As the tabulation shows, most females and males with missing age record did not have parent/child or sibling/spouse on board.  \n",
    "\n",
    "Moreover we observe that  77% of the passengers have no cabin record, where most of these passengers are from the lower and middle classes. Again we wonder when the record was taken and what type of cabins did the lower and middle class passengers where assigned. Did any of those with no cabin survive? this is something to investigate. \n",
    "\n",
    "Only two upper class female passengers did not have embarkation record. However, both have age recorded and who survived and with no companion such as parent/child or sibling/spouse."
   ]
  },
  {
   "cell_type": "code",
   "execution_count": 29,
   "metadata": {
    "collapsed": false
   },
   "outputs": [
    {
     "data": {
      "text/plain": [
       "<matplotlib.figure.Figure at 0xc760b00>"
      ]
     },
     "metadata": {},
     "output_type": "display_data"
    },
    {
     "data": {
      "image/png": "[encoded data removed]",
      "text/plain": [
       "<matplotlib.figure.Figure at 0xc95df60>"
      ]
     },
     "metadata": {},
     "output_type": "display_data"
    }
   ],
   "source": [
    "#counts of females and male whose age is missing comparing those who died and survived\n",
    "# in the three SE classes.\n",
    "#\n",
    "# Preparing for a bar plot\n",
    "\n",
    "\n",
    "#females who died\n",
    "female_died = T_noAge_df['Class'][(T_noAge_df['Sex'] == 'female') & \\\n",
    "(T_noAge_df['Survived'] == 0)].value_counts(sort=False)\n",
    "#males who died\n",
    "male_died = T_noAge_df['Class'][(T_noAge_df['Sex'] == 'male') & \\\n",
    "(T_noAge_df['Survived']==0)].value_counts(sort=False)\n",
    "#females who survived\n",
    "female_survivied = T_noAge_df['Class'][(T_noAge_df['Sex'] == 'female') & \\\n",
    "(T_noAge_df['Survived'] == 1)].value_counts(sort=False)\n",
    "#males who survived\n",
    "male_survived = T_noAge_df['Class'][(T_noAge_df['Sex'] == 'male') & \\\n",
    "(T_noAge_df['Survived'] == 1)].value_counts(sort=False)\n",
    "\n",
    "#Data Frame of counts of each group in each Class\n",
    "survival_by_sex_miss_df = pd.DataFrame({'Female_Survived': female_survivied, \\\n",
    "                                       'Female_Died': female_died,\\\n",
    "                                        'Male_Survived': male_survived, \\\n",
    "                                       'Male_Died' : male_died})\n",
    "\n",
    "plt.figure();\n",
    "ax = survival_by_sex_miss_df.plot.bar(figsize=(11,7),rot=0)\n",
    "ax.set(xlabel = 'Class', ylabel = 'Count',\\\n",
    "title = 'Socio-Economic class distribution among Titanic passangers \\\n",
    "whose age record is missing')\n",
    "\n",
    "plt.show()"
   ]
  },
  {
   "cell_type": "markdown",
   "metadata": {},
   "source": [
    "## General characteristics of passengers\n",
    "\n",
    "Now we would like to understand the demographics of the passengers. So we look to find answers to questions such as: how many males and females were on board? how many in each of the social classes? etc.  "
   ]
  },
  {
   "cell_type": "code",
   "execution_count": 16,
   "metadata": {
    "collapsed": false
   },
   "outputs": [
    {
     "name": "stdout",
     "output_type": "stream",
     "text": [
      "Number of females and males on board\n",
      "Sex\n",
      "female    314\n",
      "male      577\n",
      "Name: Pclass, dtype: int64\n"
     ]
    }
   ],
   "source": [
    "titanic_df_group_class_by_sex = titanic_df.groupby(['Sex'])['Pclass']\n",
    "print 'Number of females and males on board'\n",
    "print titanic_df_group_class_by_sex.count()"
   ]
  },
  {
   "cell_type": "markdown",
   "metadata": {},
   "source": [
    "We look at the distburion in passangers among SE classes and Sex groups "
   ]
  },
  {
   "cell_type": "code",
   "execution_count": 17,
   "metadata": {
    "collapsed": false
   },
   "outputs": [
    {
     "name": "stdout",
     "output_type": "stream",
     "text": [
      "Proportion of passengers in each class\n",
      "1    24.242424\n",
      "2    20.650954\n",
      "3    55.106622\n",
      "Name: Pclass, dtype: float64\n"
     ]
    }
   ],
   "source": [
    "# Distrbution of passangers on board among the three SE classes. \n",
    "print 'Proportion of passengers in each class'\n",
    "print titanic_df['Pclass'].value_counts(sort=False)*100/len(titanic_df)"
   ]
  },
  {
   "cell_type": "code",
   "execution_count": 18,
   "metadata": {
    "collapsed": false
   },
   "outputs": [
    {
     "name": "stdout",
     "output_type": "stream",
     "text": [
      "Proportion of male passengers in each class\n",
      "1    21.143847\n",
      "2    18.717504\n",
      "3    60.138648\n",
      "Name: Pclass, dtype: float64\n"
     ]
    }
   ],
   "source": [
    "# Distribution of males on board in each class\n",
    "titanic_males = sum(titanic_df['Sex'] == 'male')\n",
    "print 'Proportion of male passengers in each class'\n",
    "print titanic_df['Pclass'][titanic_df['Sex'] == 'male'].value_counts(sort=False)*100/titanic_males\n"
   ]
  },
  {
   "cell_type": "code",
   "execution_count": 19,
   "metadata": {
    "collapsed": false
   },
   "outputs": [
    {
     "name": "stdout",
     "output_type": "stream",
     "text": [
      "Proportion of female passengers in each class\n",
      "1    29.936306\n",
      "2    24.203822\n",
      "3    45.859873\n",
      "Name: Pclass, dtype: float64\n"
     ]
    }
   ],
   "source": [
    "# Distribution of females on board in each SE class\n",
    "titanic_females = sum(titanic_df['Sex'] == 'female')\n",
    "print 'Proportion of female passengers in each class'\n",
    "print titanic_df['Pclass'][titanic_df['Sex'] == 'female'].value_counts(sort=False)\\\n",
    "*100/titanic_females"
   ]
  },
  {
   "cell_type": "code",
   "execution_count": 20,
   "metadata": {
    "collapsed": false
   },
   "outputs": [
    {
     "name": "stdout",
     "output_type": "stream",
     "text": [
      "Number of females and males in each class\n",
      "Pclass  Sex   \n",
      "1       female     94\n",
      "        male      122\n",
      "2       female     76\n",
      "        male      108\n",
      "3       female    144\n",
      "        male      347\n",
      "Name: PassengerId, dtype: int64\n"
     ]
    }
   ],
   "source": [
    "print 'Number of females and males in each class'\n",
    "print titanic_df.groupby(['Pclass','Sex'])['PassengerId'].count()"
   ]
  },
  {
   "cell_type": "markdown",
   "metadata": {},
   "source": [
    "We compare the median age and fare of passangers acorss SE classes and Sex. Notice that females fares are consistently higher across SE classes compared to male fares. "
   ]
  },
  {
   "cell_type": "code",
   "execution_count": 21,
   "metadata": {
    "collapsed": false
   },
   "outputs": [
    {
     "data": {
      "text/html": [
       "<div>\n",
       "<table border=\"1\" class=\"dataframe\">\n",
       "  <thead>\n",
       "    <tr style=\"text-align: right;\">\n",
       "      <th></th>\n",
       "      <th></th>\n",
       "      <th>Age</th>\n",
       "      <th>Fare</th>\n",
       "    </tr>\n",
       "    <tr>\n",
       "      <th>Class</th>\n",
       "      <th>Sex</th>\n",
       "      <th></th>\n",
       "      <th></th>\n",
       "    </tr>\n",
       "  </thead>\n",
       "  <tbody>\n",
       "    <tr>\n",
       "      <th rowspan=\"2\" valign=\"top\">Lower</th>\n",
       "      <th>female</th>\n",
       "      <td>21.5</td>\n",
       "      <td>12.47500</td>\n",
       "    </tr>\n",
       "    <tr>\n",
       "      <th>male</th>\n",
       "      <td>25.0</td>\n",
       "      <td>7.92500</td>\n",
       "    </tr>\n",
       "    <tr>\n",
       "      <th rowspan=\"2\" valign=\"top\">Middle</th>\n",
       "      <th>female</th>\n",
       "      <td>28.0</td>\n",
       "      <td>22.00000</td>\n",
       "    </tr>\n",
       "    <tr>\n",
       "      <th>male</th>\n",
       "      <td>30.0</td>\n",
       "      <td>13.00000</td>\n",
       "    </tr>\n",
       "    <tr>\n",
       "      <th rowspan=\"2\" valign=\"top\">Upper</th>\n",
       "      <th>female</th>\n",
       "      <td>35.0</td>\n",
       "      <td>82.66455</td>\n",
       "    </tr>\n",
       "    <tr>\n",
       "      <th>male</th>\n",
       "      <td>40.0</td>\n",
       "      <td>41.26250</td>\n",
       "    </tr>\n",
       "  </tbody>\n",
       "</table>\n",
       "</div>"
      ],
      "text/plain": [
       "                Age      Fare\n",
       "Class  Sex                   \n",
       "Lower  female  21.5  12.47500\n",
       "       male    25.0   7.92500\n",
       "Middle female  28.0  22.00000\n",
       "       male    30.0  13.00000\n",
       "Upper  female  35.0  82.66455\n",
       "       male    40.0  41.26250"
      ]
     },
     "execution_count": 21,
     "metadata": {},
     "output_type": "execute_result"
    }
   ],
   "source": [
    "#Tabulate the median of age and fare across class and sex.\n",
    "titanic_grouped_by_pclass_sex = titanic_df.groupby(['Class','Sex'])\n",
    "titanic_grouped_by_pclass_sex['Age','Fare'].median()"
   ]
  },
  {
   "cell_type": "markdown",
   "metadata": {},
   "source": [
    "Next we would like to know the distributin of children. We consider a child, a passenger whose age is less than or equal to 15 years. "
   ]
  },
  {
   "cell_type": "code",
   "execution_count": 41,
   "metadata": {
    "collapsed": true
   },
   "outputs": [],
   "source": [
    "# data frame for children\n",
    "titanic_df_child = pd.DataFrame({'Class' : titanic_df['Class'], 'Sex' : titanic_df['Sex'],\\\n",
    "                                'Child' : (titanic_df['Age'] <=15), \\\n",
    "                                'with Parent' : ((titanic_df['Age'] <= 15) & (titanic_df['Parch']\\\n",
    "                                                                        != 0))})"
   ]
  },
  {
   "cell_type": "markdown",
   "metadata": {},
   "source": [
    "In the table below \"Parent\" means the number of children who are accompanied by at least one parent. \n",
    "We observe from this table that one female from the middle socio-economic class is not accompanied by at least one parent. Similarly 8 females and 2 males from the lowest socio-economic are not accompanied by at least one parent."
   ]
  },
  {
   "cell_type": "code",
   "execution_count": 42,
   "metadata": {
    "collapsed": false
   },
   "outputs": [
    {
     "data": {
      "text/html": [
       "<div>\n",
       "<table border=\"1\" class=\"dataframe\">\n",
       "  <thead>\n",
       "    <tr style=\"text-align: right;\">\n",
       "      <th></th>\n",
       "      <th></th>\n",
       "      <th>Child</th>\n",
       "      <th>with Parent</th>\n",
       "    </tr>\n",
       "    <tr>\n",
       "      <th>Class</th>\n",
       "      <th>Sex</th>\n",
       "      <th></th>\n",
       "      <th></th>\n",
       "    </tr>\n",
       "  </thead>\n",
       "  <tbody>\n",
       "    <tr>\n",
       "      <th rowspan=\"2\" valign=\"top\">Lower</th>\n",
       "      <th>female</th>\n",
       "      <td>30.0</td>\n",
       "      <td>22.0</td>\n",
       "    </tr>\n",
       "    <tr>\n",
       "      <th>male</th>\n",
       "      <td>28.0</td>\n",
       "      <td>26.0</td>\n",
       "    </tr>\n",
       "    <tr>\n",
       "      <th rowspan=\"2\" valign=\"top\">Middle</th>\n",
       "      <th>female</th>\n",
       "      <td>10.0</td>\n",
       "      <td>9.0</td>\n",
       "    </tr>\n",
       "    <tr>\n",
       "      <th>male</th>\n",
       "      <td>9.0</td>\n",
       "      <td>9.0</td>\n",
       "    </tr>\n",
       "    <tr>\n",
       "      <th rowspan=\"2\" valign=\"top\">Upper</th>\n",
       "      <th>female</th>\n",
       "      <td>3.0</td>\n",
       "      <td>3.0</td>\n",
       "    </tr>\n",
       "    <tr>\n",
       "      <th>male</th>\n",
       "      <td>3.0</td>\n",
       "      <td>3.0</td>\n",
       "    </tr>\n",
       "  </tbody>\n",
       "</table>\n",
       "</div>"
      ],
      "text/plain": [
       "               Child  with Parent\n",
       "Class  Sex                       \n",
       "Lower  female   30.0         22.0\n",
       "       male     28.0         26.0\n",
       "Middle female   10.0          9.0\n",
       "       male      9.0          9.0\n",
       "Upper  female    3.0          3.0\n",
       "       male      3.0          3.0"
      ]
     },
     "execution_count": 42,
     "metadata": {},
     "output_type": "execute_result"
    }
   ],
   "source": [
    "titanic_child_grouping = titanic_df_child.groupby(['Class','Sex'])['Child','with Parent']\n",
    "titanic_child_grouping.sum()"
   ]
  },
  {
   "cell_type": "markdown",
   "metadata": {},
   "source": [
    "Next we would like to study the age distrbution among Titanic passengers.\n",
    "We define the following age categories:\n",
    "\n",
    "Child such that age <= 15\n",
    "\n",
    "Youth such that 15 < Age <= 30\n",
    "\n",
    "Adult such that 30 < Age <= 45\n",
    "\n",
    "MidAge such that 45 < Age <= 60\n",
    "\n",
    "Senior such that 60 < Age <= 75\n",
    "\n",
    "\n",
    "OldAge such that Age > 75\n",
    "\n",
    "Lets find the exact count in each age group."
   ]
  },
  {
   "cell_type": "code",
   "execution_count": 46,
   "metadata": {
    "collapsed": false,
    "scrolled": true
   },
   "outputs": [
    {
     "name": "stdout",
     "output_type": "stream",
     "text": [
      "Total number of passengers in each age category\n",
      "Child      83\n",
      "Youth     326\n",
      "Adult     202\n",
      "MidAge     81\n",
      "Senior     21\n",
      "OldAge      1\n",
      "dtype: int64\n",
      "\n",
      "Counts of age category by class and sex\n"
     ]
    },
    {
     "data": {
      "text/html": [
       "<div>\n",
       "<table border=\"1\" class=\"dataframe\">\n",
       "  <thead>\n",
       "    <tr style=\"text-align: right;\">\n",
       "      <th></th>\n",
       "      <th></th>\n",
       "      <th>Adult</th>\n",
       "      <th>Child</th>\n",
       "      <th>MidAge</th>\n",
       "      <th>OldAge</th>\n",
       "      <th>Senior</th>\n",
       "      <th>Youth</th>\n",
       "    </tr>\n",
       "    <tr>\n",
       "      <th>Class</th>\n",
       "      <th>Sex</th>\n",
       "      <th></th>\n",
       "      <th></th>\n",
       "      <th></th>\n",
       "      <th></th>\n",
       "      <th></th>\n",
       "      <th></th>\n",
       "    </tr>\n",
       "  </thead>\n",
       "  <tbody>\n",
       "    <tr>\n",
       "      <th rowspan=\"2\" valign=\"top\">Lower</th>\n",
       "      <th>female</th>\n",
       "      <td>20.0</td>\n",
       "      <td>30.0</td>\n",
       "      <td>2.0</td>\n",
       "      <td>0.0</td>\n",
       "      <td>1.0</td>\n",
       "      <td>49.0</td>\n",
       "    </tr>\n",
       "    <tr>\n",
       "      <th>male</th>\n",
       "      <td>65.0</td>\n",
       "      <td>28.0</td>\n",
       "      <td>11.0</td>\n",
       "      <td>0.0</td>\n",
       "      <td>4.0</td>\n",
       "      <td>145.0</td>\n",
       "    </tr>\n",
       "    <tr>\n",
       "      <th rowspan=\"2\" valign=\"top\">Middle</th>\n",
       "      <th>female</th>\n",
       "      <td>23.0</td>\n",
       "      <td>10.0</td>\n",
       "      <td>7.0</td>\n",
       "      <td>0.0</td>\n",
       "      <td>0.0</td>\n",
       "      <td>34.0</td>\n",
       "    </tr>\n",
       "    <tr>\n",
       "      <th>male</th>\n",
       "      <td>31.0</td>\n",
       "      <td>9.0</td>\n",
       "      <td>13.0</td>\n",
       "      <td>0.0</td>\n",
       "      <td>3.0</td>\n",
       "      <td>43.0</td>\n",
       "    </tr>\n",
       "    <tr>\n",
       "      <th rowspan=\"2\" valign=\"top\">Upper</th>\n",
       "      <th>female</th>\n",
       "      <td>30.0</td>\n",
       "      <td>3.0</td>\n",
       "      <td>18.0</td>\n",
       "      <td>0.0</td>\n",
       "      <td>2.0</td>\n",
       "      <td>32.0</td>\n",
       "    </tr>\n",
       "    <tr>\n",
       "      <th>male</th>\n",
       "      <td>33.0</td>\n",
       "      <td>3.0</td>\n",
       "      <td>30.0</td>\n",
       "      <td>1.0</td>\n",
       "      <td>11.0</td>\n",
       "      <td>23.0</td>\n",
       "    </tr>\n",
       "  </tbody>\n",
       "</table>\n",
       "</div>"
      ],
      "text/plain": [
       "               Adult  Child  MidAge  OldAge  Senior  Youth\n",
       "Class  Sex                                                \n",
       "Lower  female   20.0   30.0     2.0     0.0     1.0   49.0\n",
       "       male     65.0   28.0    11.0     0.0     4.0  145.0\n",
       "Middle female   23.0   10.0     7.0     0.0     0.0   34.0\n",
       "       male     31.0    9.0    13.0     0.0     3.0   43.0\n",
       "Upper  female   30.0    3.0    18.0     0.0     2.0   32.0\n",
       "       male     33.0    3.0    30.0     1.0    11.0   23.0"
      ]
     },
     "execution_count": 46,
     "metadata": {},
     "output_type": "execute_result"
    }
   ],
   "source": [
    "# Data frame for specific age category\n",
    "titanic_df_age_category = pd.DataFrame( {'Class' : titanic_df['Class'], \\\n",
    "    'Sex' : titanic_df['Sex'],'Child' : (titanic_df['Age'] <=15), \\\n",
    "    'Youth' : ((titanic_df['Age'] > 15) & (titanic_df['Age'] <= 30)), \\\n",
    "    'Adult': ((titanic_df['Age'] > 30) & (titanic_df['Age'] <= 45)), \\\n",
    "    'MidAge': ((titanic_df['Age'] > 45) & (titanic_df['Age'] <= 60)), \\\n",
    "'Senior' : ((titanic_df['Age'] > 60) & (titanic_df['Age'] <= 75)), \\\n",
    "                                       'OldAge' : ((titanic_df['Age'] > 75))})\n",
    "#print titanic_df_age_category.sum()\n",
    "\n",
    "# Total number of passengers in each age category\n",
    "print 'Total number of passengers in each age category'\n",
    "age_columns=['Child','Youth','Adult','MidAge','Senior','OldAge']\n",
    "print titanic_df_age_category[age_columns].sum()\n",
    "\n",
    "# Counts of age category by class and sex\n",
    "print '\\nCounts of age category by class and sex'\n",
    "titanic_age_category_grouping = titanic_df_age_category.groupby(['Class','Sex'])\n",
    "titanic_age_category_grouping.sum()"
   ]
  },
  {
   "cell_type": "markdown",
   "metadata": {},
   "source": [
    "Here is a bar plot of these groups "
   ]
  },
  {
   "cell_type": "code",
   "execution_count": 26,
   "metadata": {
    "collapsed": false
   },
   "outputs": [
    {
     "data": {
      "image/png": "[encoded data removed]",
      "text/plain": [
       "<matplotlib.figure.Figure at 0xc49c1d0>"
      ]
     },
     "metadata": {},
     "output_type": "display_data"
    }
   ],
   "source": [
    "ax =titanic_df_age_category[age_columns].sum().plot.bar(figsize=(9,5),rot=0)\n",
    "ax.set(xlabel='Age category', ylabel='Count', Title='Titianic passenger age distribution')\n",
    "plt.show()"
   ]
  },
  {
   "cell_type": "markdown",
   "metadata": {},
   "source": [
    "Below is a histogram of the age distribution without refering the the age categories we used above. "
   ]
  },
  {
   "cell_type": "code",
   "execution_count": 27,
   "metadata": {
    "collapsed": false
   },
   "outputs": [
    {
     "data": {
      "image/png": "[encoded data removed]",
      "text/plain": [
       "<matplotlib.figure.Figure at 0xc8bca90>"
      ]
     },
     "metadata": {},
     "output_type": "display_data"
    }
   ],
   "source": [
    "#Stacked historgram of Age for females and males\n",
    "age_by_sex = pd.DataFrame({'Male' : titanic_df['Age'][titanic_df['Sex']=='male'],\\\n",
    "                          'Female': titanic_df['Age'][titanic_df['Sex']=='female']})\n",
    "\n",
    "ax = age_by_sex.plot.hist(stacked = True, alpha=0.7, figsize=(8,6))\n",
    "ax.set(xlabel='Age', title='Age distiribution of Titanic Passengers')\n",
    "plt.show()"
   ]
  },
  {
   "cell_type": "markdown",
   "metadata": {},
   "source": [
    "Below is age histogram with 10 years increment"
   ]
  },
  {
   "cell_type": "code",
   "execution_count": 49,
   "metadata": {
    "collapsed": false
   },
   "outputs": [
    {
     "data": {
      "text/plain": [
       "[<matplotlib.text.Text at 0xcdd7630>, <matplotlib.text.Text at 0xc9c1ef0>]"
      ]
     },
     "execution_count": 49,
     "metadata": {},
     "output_type": "execute_result"
    },
    {
     "data": {
      "image/png": "[encoded data removed]",
      "text/plain": [
       "<matplotlib.figure.Figure at 0xd133588>"
      ]
     },
     "metadata": {},
     "output_type": "display_data"
    }
   ],
   "source": [
    "ax = sns.distplot(titanic_df['Age'][~s], bins=8, kde=False, rug=False)\n",
    "ax.set(ylabel = 'Count', title='Age distiribution of Titanic Passengers')"
   ]
  },
  {
   "cell_type": "markdown",
   "metadata": {},
   "source": [
    "Notice that most ridership is composed of Youth and adults between the ages of 15 and 45 years. The distribution is almost symmetric around the mean and almost matches the emprical rule that 68% of the passengers lie within one standard deviation (about 15 years) from the mean (about 30 years). In fact in this case, 59.2% of the passangers lie in this range. \n",
    "\n",
    "The swarm plot below shows the distribution of age broken down by sex and class. Observe how the 18 - 37 year old lower class males dominate the ridership, averaging around 27 years. The upper class tend be older on average centered around 40 years, while the middle class the average age centers around 30 years."
   ]
  },
  {
   "cell_type": "code",
   "execution_count": 33,
   "metadata": {
    "collapsed": false
   },
   "outputs": [],
   "source": [
    "#help(sns.factorplot)"
   ]
  },
  {
   "cell_type": "code",
   "execution_count": 47,
   "metadata": {
    "collapsed": false
   },
   "outputs": [
    {
     "data": {
      "text/plain": [
       "<seaborn.axisgrid.FacetGrid at 0xc772f28>"
      ]
     },
     "execution_count": 47,
     "metadata": {},
     "output_type": "execute_result"
    },
    {
     "data": {
      "image/png": "[encoded data removed]",
      "text/plain": [
       "<matplotlib.figure.Figure at 0xc772f98>"
      ]
     },
     "metadata": {},
     "output_type": "display_data"
    }
   ],
   "source": [
    "#sns.swarmplot(x=titanic_df['Class'],y=titanic_df['Age'])\n",
    "#with sns.plotting_context(\"notebook\"):\n",
    "sns.plotting_context('notebook')\n",
    "g = sns.factorplot(x='Class',y='Age', col='Sex', data=titanic_df, kind='swarm', size=6, aspect=1)\n",
    "\n",
    "(g.set_axis_labels(\"Socio-Economic Class\", \"Age (years)\")\\\n",
    "# .set_xticklabels([\"\", \"\", \"\"])\\\n",
    " .set_titles(\"{col_name} {col_var}\")\\\n",
    " .set(ylim=(-5, 85)).despine(left=True)) "
   ]
  },
  {
   "cell_type": "markdown",
   "metadata": {},
   "source": [
    "Below we look at the bar chart for SE classes. This is a visual presentation of the distribution of the upper, middle and lower SE classes. Recall we found out above that among the 891 passengers: 24% are in  the upper class, 21% are in the middle and 55% are in the lower class.  "
   ]
  },
  {
   "cell_type": "code",
   "execution_count": 30,
   "metadata": {
    "collapsed": false
   },
   "outputs": [
    {
     "data": {
      "text/plain": [
       "<seaborn.axisgrid.FacetGrid at 0xc50ecc0>"
      ]
     },
     "execution_count": 30,
     "metadata": {},
     "output_type": "execute_result"
    },
    {
     "data": {
      "image/png": "[encoded data removed]",
      "text/plain": [
       "<matplotlib.figure.Figure at 0xc7439b0>"
      ]
     },
     "metadata": {},
     "output_type": "display_data"
    }
   ],
   "source": [
    "sns.factorplot(x='Class',col='Sex',kind='count',data=titanic_df)"
   ]
  },
  {
   "cell_type": "code",
   "execution_count": 87,
   "metadata": {
    "collapsed": false,
    "scrolled": true
   },
   "outputs": [
    {
     "name": "stdout",
     "output_type": "stream",
     "text": [
      "Class\n",
      "Lower     25.140620\n",
      "Middle    29.877630\n",
      "Upper     38.233441\n",
      "Name: Age, dtype: float64\n"
     ]
    },
    {
     "data": {
      "image/png": "[encoded data removed]",
      "text/plain": [
       "<matplotlib.figure.Figure at 0x12e30898>"
      ]
     },
     "metadata": {},
     "output_type": "display_data"
    }
   ],
   "source": [
    "#the average age with error estimate reflected in a bar chart\n",
    "sns.factorplot(x='Class',y='Age',col='Sex',kind='bar',data=titanic_df)\n",
    "print titanic_df.groupby('Class')['Age'].mean()"
   ]
  },
  {
   "cell_type": "markdown",
   "metadata": {},
   "source": [
    "We turn our attention now to fare distribution. One would expect that children may have lower fares that adults. People from lower socio-economic class will have lower fare than the upper class. Lets see whethter these assumptions hold. "
   ]
  },
  {
   "cell_type": "code",
   "execution_count": 51,
   "metadata": {
    "collapsed": true
   },
   "outputs": [],
   "source": [
    "pclass_1 = (titanic_df['Pclass'] == 1) & ~s\n",
    "pclass_2 = (titanic_df['Pclass'] == 2) & ~s\n",
    "pclass_3 = (titanic_df['Pclass'] == 3) & ~s"
   ]
  },
  {
   "cell_type": "code",
   "execution_count": 54,
   "metadata": {
    "collapsed": false
   },
   "outputs": [
    {
     "data": {
      "image/png": "[encoded data removed]",
      "text/plain": [
       "<matplotlib.figure.Figure at 0xcc00400>"
      ]
     },
     "metadata": {},
     "output_type": "display_data"
    }
   ],
   "source": [
    "fare_age_df = pd.DataFrame({'Fare_upper': titanic_df['Fare'][pclass_1], \\\n",
    "              'Fare_middle': titanic_df['Fare'][pclass_2],\\\n",
    "             'Fare_lower': titanic_df['Fare'][pclass_3],\\\n",
    "             'Age_upper': titanic_df['Age'][pclass_1], \\\n",
    "              'Age_middle': titanic_df['Age'][pclass_2],\\\n",
    "             'Age_lower': titanic_df['Age'][pclass_3],})\n",
    "\n",
    "ax = fare_age_df.plot.scatter(x='Age_upper',y='Fare_upper',\\\n",
    "                        color = 'C1' ,label= 'Upper', figsize=(8,5));\n",
    "fare_age_df.plot.scatter(x='Age_middle',y='Fare_middle',\\\n",
    "                        color = 'C2',label= 'Middle', ax=ax)\n",
    "fare_age_df.plot.scatter(x='Age_lower',y='Fare_lower',\\\n",
    "                        color = 'C0',label= 'Lower', ax=ax)\n",
    "ax.set(xlabel='Age',ylabel='Fare', title = \"Fare versus Age for the three SE classes\")\n",
    "plt.show()"
   ]
  },
  {
   "cell_type": "markdown",
   "metadata": {},
   "source": [
    "\n",
    "We notice that there are some fares that are way too high. We wish to look at the plot for fares that are less than 200. "
   ]
  },
  {
   "cell_type": "code",
   "execution_count": 53,
   "metadata": {
    "collapsed": false
   },
   "outputs": [
    {
     "data": {
      "image/png": "[encoded data removed]",
      "text/plain": [
       "<matplotlib.figure.Figure at 0x2619748>"
      ]
     },
     "metadata": {},
     "output_type": "display_data"
    }
   ],
   "source": [
    "fare_upper_lim = 200\n",
    "low_cost= titanic_df.query('Fare < {}'.format(fare_upper_lim))\n",
    "\n",
    "fare_age_df = pd.DataFrame({'Fare_upper': low_cost['Fare'][pclass_1], \\\n",
    "              'Fare_middle': low_cost['Fare'][pclass_2],\\\n",
    "             'Fare_lower': low_cost['Fare'][pclass_3],\\\n",
    "             'Age_upper': low_cost['Age'][pclass_1], \\\n",
    "              'Age_middle': low_cost['Age'][pclass_2],\\\n",
    "             'Age_lower': low_cost['Age'][pclass_3],})\n",
    "\n",
    "ax = fare_age_df.plot.scatter(x='Age_upper',y='Fare_upper',\\\n",
    "                        color = 'C1' ,label= 'Upper', figsize=(8,5));\n",
    "fare_age_df.plot.scatter(x='Age_middle',y='Fare_middle',\\\n",
    "                        color = 'C2',label= 'Middle', ax=ax)\n",
    "fare_age_df.plot.scatter(x='Age_lower',y='Fare_lower',\\\n",
    "                        color = 'C0',label= 'Lower', ax=ax)\n",
    "ax.set(xlabel='Age',ylabel='Fare', title = \"Fare versus Age for the three SE classes\")\n",
    "plt.show()"
   ]
  },
  {
   "cell_type": "markdown",
   "metadata": {},
   "source": [
    "We observe from the above plot that fare does not depend on age and the fares of some children less than 10 years are high when compared to the other fares in the same class. \n",
    "\n",
    "We observe morever that upper class have far more variability in fares than the middle and lower SE classes. \n",
    "\n",
    "Let's look at the histograms of the fare for each of the three classes.\n",
    "As you see below, the middle class has two spikes while the lower class has one dominant spike. We observe the vairability in the histogram of the upper class again. \n"
   ]
  },
  {
   "cell_type": "code",
   "execution_count": 55,
   "metadata": {
    "collapsed": false
   },
   "outputs": [
    {
     "data": {
      "image/png": "[encoded data removed]",
      "text/plain": [
       "<matplotlib.figure.Figure at 0xeb9b080>"
      ]
     },
     "metadata": {},
     "output_type": "display_data"
    }
   ],
   "source": [
    "# Histogram of Fare for each of the classes\n",
    "plt.figure(figsize=(10,6))\n",
    "ax = sns.distplot(titanic_df['Fare'][pclass_1], bins=8, kde=False, rug=False,\\\n",
    "                 color='orange', label='Upper')\n",
    "\n",
    "sns.distplot(titanic_df['Fare'][pclass_2], bins=8, kde=False, rug=False,label = 'Middle',\\\n",
    "             color = 'red',ax=ax)\n",
    "sns.distplot(titanic_df['Fare'][pclass_3], bins=8, kde=False, rug=False,label='Lower', \\\n",
    "             color='blue',ax=ax)\n",
    "ax.set(ylabel='Count', title='Fare distribution of Titanic_pasedengers')\n",
    "#unfortunately the lebel in sns.distplot above did not work so I have to enforce it here\n",
    "ax.legend(('Upper','Middle','Lower'))\n",
    "plt.show()"
   ]
  },
  {
   "cell_type": "markdown",
   "metadata": {},
   "source": [
    "I would like to get some insight about those fares that are really high.\n",
    "\n",
    "As you see from the table below three passengers share the same fare and ticket!"
   ]
  },
  {
   "cell_type": "code",
   "execution_count": 36,
   "metadata": {
    "collapsed": false,
    "scrolled": true
   },
   "outputs": [
    {
     "data": {
      "text/html": [
       "<div>\n",
       "<table border=\"1\" class=\"dataframe\">\n",
       "  <thead>\n",
       "    <tr style=\"text-align: right;\">\n",
       "      <th></th>\n",
       "      <th>PassengerId</th>\n",
       "      <th>Survived</th>\n",
       "      <th>Pclass</th>\n",
       "      <th>Name</th>\n",
       "      <th>Sex</th>\n",
       "      <th>Age</th>\n",
       "      <th>SibSp</th>\n",
       "      <th>Parch</th>\n",
       "      <th>Ticket</th>\n",
       "      <th>Fare</th>\n",
       "      <th>Cabin</th>\n",
       "      <th>Embarked</th>\n",
       "      <th>Class</th>\n",
       "      <th>Survival status</th>\n",
       "    </tr>\n",
       "  </thead>\n",
       "  <tbody>\n",
       "    <tr>\n",
       "      <th>258</th>\n",
       "      <td>259</td>\n",
       "      <td>1</td>\n",
       "      <td>1</td>\n",
       "      <td>Ward, Miss. Anna</td>\n",
       "      <td>female</td>\n",
       "      <td>35.0</td>\n",
       "      <td>0</td>\n",
       "      <td>0</td>\n",
       "      <td>PC 17755</td>\n",
       "      <td>512.3292</td>\n",
       "      <td>NaN</td>\n",
       "      <td>C</td>\n",
       "      <td>Upper</td>\n",
       "      <td>Survived</td>\n",
       "    </tr>\n",
       "    <tr>\n",
       "      <th>679</th>\n",
       "      <td>680</td>\n",
       "      <td>1</td>\n",
       "      <td>1</td>\n",
       "      <td>Cardeza, Mr. Thomas Drake Martinez</td>\n",
       "      <td>male</td>\n",
       "      <td>36.0</td>\n",
       "      <td>0</td>\n",
       "      <td>1</td>\n",
       "      <td>PC 17755</td>\n",
       "      <td>512.3292</td>\n",
       "      <td>B51 B53 B55</td>\n",
       "      <td>C</td>\n",
       "      <td>Upper</td>\n",
       "      <td>Survived</td>\n",
       "    </tr>\n",
       "    <tr>\n",
       "      <th>737</th>\n",
       "      <td>738</td>\n",
       "      <td>1</td>\n",
       "      <td>1</td>\n",
       "      <td>Lesurer, Mr. Gustave J</td>\n",
       "      <td>male</td>\n",
       "      <td>35.0</td>\n",
       "      <td>0</td>\n",
       "      <td>0</td>\n",
       "      <td>PC 17755</td>\n",
       "      <td>512.3292</td>\n",
       "      <td>B101</td>\n",
       "      <td>C</td>\n",
       "      <td>Upper</td>\n",
       "      <td>Survived</td>\n",
       "    </tr>\n",
       "  </tbody>\n",
       "</table>\n",
       "</div>"
      ],
      "text/plain": [
       "     PassengerId  Survived Pclass                                Name     Sex  \\\n",
       "258          259         1      1                    Ward, Miss. Anna  female   \n",
       "679          680         1      1  Cardeza, Mr. Thomas Drake Martinez    male   \n",
       "737          738         1      1              Lesurer, Mr. Gustave J    male   \n",
       "\n",
       "      Age  SibSp  Parch    Ticket      Fare        Cabin Embarked  Class  \\\n",
       "258  35.0      0      0  PC 17755  512.3292          NaN        C  Upper   \n",
       "679  36.0      0      1  PC 17755  512.3292  B51 B53 B55        C  Upper   \n",
       "737  35.0      0      0  PC 17755  512.3292         B101        C  Upper   \n",
       "\n",
       "    Survival status  \n",
       "258        Survived  \n",
       "679        Survived  \n",
       "737        Survived  "
      ]
     },
     "execution_count": 36,
     "metadata": {},
     "output_type": "execute_result"
    }
   ],
   "source": [
    "fare_above_300 = titanic_df['Fare'] > 300\n",
    "titanic_df[fare_above_300]"
   ]
  },
  {
   "cell_type": "code",
   "execution_count": 37,
   "metadata": {
    "collapsed": false
   },
   "outputs": [
    {
     "data": {
      "text/plain": [
       "681"
      ]
     },
     "execution_count": 37,
     "metadata": {},
     "output_type": "execute_result"
    }
   ],
   "source": [
    "# How many unique tickets are there?\n",
    "titanic_df['Ticket'].nunique()"
   ]
  },
  {
   "cell_type": "markdown",
   "metadata": {
    "collapsed": true
   },
   "source": [
    "There are 681 unique tickets out of 891. Which means there are many passangers who share the same ticket. These tickets have the same fare. \n",
    "\n",
    "As we see below it turns out there are 344 passengers who share the same ticket with at least one more passenger.\n",
    "\n",
    "There are 134 tickets that are what I call multiple tickets, that is tickets that are shared by at least two passengers.\n"
   ]
  },
  {
   "cell_type": "code",
   "execution_count": 58,
   "metadata": {
    "collapsed": false
   },
   "outputs": [
    {
     "name": "stdout",
     "output_type": "stream",
     "text": [
      "count of unique tickets  681\n",
      "number of tickets not shared by more than one passenger is  547\n",
      "Tickets that are shared by at least two passenegers  134\n",
      "Sample of uniqe tickets with their counts\n",
      "367226             2\n",
      "S.W./PP 752        1\n",
      "SOTON/OQ 392090    1\n",
      "C.A. 29566         1\n",
      "2653               2\n",
      "Name: Ticket, dtype: int64 0           A/5 21171\n",
      "1            PC 17599\n",
      "2    STON/O2. 3101282\n",
      "3              113803\n",
      "4              373450\n",
      "Name: Ticket, dtype: object\n",
      "Shared tickets (by number of shares) and passenger counts per share type\n"
     ]
    },
    {
     "data": {
      "text/plain": [
       "1    547\n",
       "2     94\n",
       "3     21\n",
       "4     11\n",
       "5      2\n",
       "6      3\n",
       "7      3\n",
       "Name: Tcount, dtype: int64"
      ]
     },
     "execution_count": 58,
     "metadata": {},
     "output_type": "execute_result"
    }
   ],
   "source": [
    "#How many passengers share a ticket?\n",
    "\n",
    "tickets_counts = titanic_df['Ticket'].value_counts(sort=False)\n",
    "print 'count of unique tickets ',len(tickets_counts)\n",
    "print 'number of tickets not shared by more than one passenger is ', sum(tickets_counts ==1)\n",
    "print 'Tickets that are shared by at least two passenegers ',sum(tickets_counts > 1)\n",
    "print 'Sample of uniqe tickets with their counts'\n",
    "print tickets_counts[:5], titanic_df['Ticket'][:5]\n",
    "\n",
    "# create a data frame for tickets and their counts\n",
    "#I need a column 'Tickets' when I use .merge function with the full data frame\n",
    "tk_idx = tickets_counts.index.tolist() \n",
    "titanic_tickets_df = pd.DataFrame({'Ticket': tk_idx, 'Tcount':tickets_counts})\n",
    "# Number of passenger for each multiple ticket type.\n",
    "print 'Shared tickets (by number of shares) and passenger counts per share type'\n",
    "titanic_tickets_df['Tcount'].value_counts(sort=False)"
   ]
  },
  {
   "cell_type": "markdown",
   "metadata": {},
   "source": [
    "My goal now is to be able to tell from the record of each passenger how many passengers share the same ticket. This helps in identifying the demography of those who share tickets. Moreover, this will allow me to study the fares of single tickets and compare it to fares of multiple tickets. One way to do this is to divide the fare by the number of passengers on the same ticket. \n",
    "\n",
    "Towards this goal we merge the existing titanic_df data frame to the titanic_tickets_df data frame so that we have a new columns Tcount that shows for each passenger how many share the same ticket. "
   ]
  },
  {
   "cell_type": "code",
   "execution_count": 59,
   "metadata": {
    "collapsed": false
   },
   "outputs": [
    {
     "data": {
      "text/html": [
       "<div>\n",
       "<table border=\"1\" class=\"dataframe\">\n",
       "  <thead>\n",
       "    <tr style=\"text-align: right;\">\n",
       "      <th></th>\n",
       "      <th>Pclass</th>\n",
       "      <th>Age</th>\n",
       "      <th>Ticket</th>\n",
       "      <th>Fare</th>\n",
       "      <th>Tcount</th>\n",
       "      <th>Name</th>\n",
       "    </tr>\n",
       "  </thead>\n",
       "  <tbody>\n",
       "    <tr>\n",
       "      <th>0</th>\n",
       "      <td>3</td>\n",
       "      <td>22.0</td>\n",
       "      <td>A/5 21171</td>\n",
       "      <td>7.2500</td>\n",
       "      <td>1</td>\n",
       "      <td>Braund, Mr. Owen Harris</td>\n",
       "    </tr>\n",
       "    <tr>\n",
       "      <th>1</th>\n",
       "      <td>1</td>\n",
       "      <td>38.0</td>\n",
       "      <td>PC 17599</td>\n",
       "      <td>71.2833</td>\n",
       "      <td>1</td>\n",
       "      <td>Cumings, Mrs. John Bradley (Florence Briggs Th...</td>\n",
       "    </tr>\n",
       "    <tr>\n",
       "      <th>2</th>\n",
       "      <td>3</td>\n",
       "      <td>26.0</td>\n",
       "      <td>STON/O2. 3101282</td>\n",
       "      <td>7.9250</td>\n",
       "      <td>1</td>\n",
       "      <td>Heikkinen, Miss. Laina</td>\n",
       "    </tr>\n",
       "    <tr>\n",
       "      <th>3</th>\n",
       "      <td>1</td>\n",
       "      <td>35.0</td>\n",
       "      <td>113803</td>\n",
       "      <td>53.1000</td>\n",
       "      <td>2</td>\n",
       "      <td>Futrelle, Mrs. Jacques Heath (Lily May Peel)</td>\n",
       "    </tr>\n",
       "    <tr>\n",
       "      <th>4</th>\n",
       "      <td>1</td>\n",
       "      <td>37.0</td>\n",
       "      <td>113803</td>\n",
       "      <td>53.1000</td>\n",
       "      <td>2</td>\n",
       "      <td>Futrelle, Mr. Jacques Heath</td>\n",
       "    </tr>\n",
       "    <tr>\n",
       "      <th>5</th>\n",
       "      <td>3</td>\n",
       "      <td>35.0</td>\n",
       "      <td>373450</td>\n",
       "      <td>8.0500</td>\n",
       "      <td>1</td>\n",
       "      <td>Allen, Mr. William Henry</td>\n",
       "    </tr>\n",
       "    <tr>\n",
       "      <th>6</th>\n",
       "      <td>3</td>\n",
       "      <td>NaN</td>\n",
       "      <td>330877</td>\n",
       "      <td>8.4583</td>\n",
       "      <td>1</td>\n",
       "      <td>Moran, Mr. James</td>\n",
       "    </tr>\n",
       "    <tr>\n",
       "      <th>7</th>\n",
       "      <td>1</td>\n",
       "      <td>54.0</td>\n",
       "      <td>17463</td>\n",
       "      <td>51.8625</td>\n",
       "      <td>1</td>\n",
       "      <td>McCarthy, Mr. Timothy J</td>\n",
       "    </tr>\n",
       "    <tr>\n",
       "      <th>8</th>\n",
       "      <td>3</td>\n",
       "      <td>2.0</td>\n",
       "      <td>349909</td>\n",
       "      <td>21.0750</td>\n",
       "      <td>4</td>\n",
       "      <td>Palsson, Master. Gosta Leonard</td>\n",
       "    </tr>\n",
       "    <tr>\n",
       "      <th>9</th>\n",
       "      <td>3</td>\n",
       "      <td>8.0</td>\n",
       "      <td>349909</td>\n",
       "      <td>21.0750</td>\n",
       "      <td>4</td>\n",
       "      <td>Palsson, Miss. Torborg Danira</td>\n",
       "    </tr>\n",
       "    <tr>\n",
       "      <th>10</th>\n",
       "      <td>3</td>\n",
       "      <td>3.0</td>\n",
       "      <td>349909</td>\n",
       "      <td>21.0750</td>\n",
       "      <td>4</td>\n",
       "      <td>Palsson, Miss. Stina Viola</td>\n",
       "    </tr>\n",
       "    <tr>\n",
       "      <th>11</th>\n",
       "      <td>3</td>\n",
       "      <td>29.0</td>\n",
       "      <td>349909</td>\n",
       "      <td>21.0750</td>\n",
       "      <td>4</td>\n",
       "      <td>Palsson, Mrs. Nils (Alma Cornelia Berglund)</td>\n",
       "    </tr>\n",
       "    <tr>\n",
       "      <th>12</th>\n",
       "      <td>3</td>\n",
       "      <td>27.0</td>\n",
       "      <td>347742</td>\n",
       "      <td>11.1333</td>\n",
       "      <td>3</td>\n",
       "      <td>Johnson, Mrs. Oscar W (Elisabeth Vilhelmina Berg)</td>\n",
       "    </tr>\n",
       "    <tr>\n",
       "      <th>13</th>\n",
       "      <td>3</td>\n",
       "      <td>1.0</td>\n",
       "      <td>347742</td>\n",
       "      <td>11.1333</td>\n",
       "      <td>3</td>\n",
       "      <td>Johnson, Miss. Eleanor Ileen</td>\n",
       "    </tr>\n",
       "  </tbody>\n",
       "</table>\n",
       "</div>"
      ],
      "text/plain": [
       "    Pclass   Age            Ticket     Fare  Tcount  \\\n",
       "0        3  22.0         A/5 21171   7.2500       1   \n",
       "1        1  38.0          PC 17599  71.2833       1   \n",
       "2        3  26.0  STON/O2. 3101282   7.9250       1   \n",
       "3        1  35.0            113803  53.1000       2   \n",
       "4        1  37.0            113803  53.1000       2   \n",
       "5        3  35.0            373450   8.0500       1   \n",
       "6        3   NaN            330877   8.4583       1   \n",
       "7        1  54.0             17463  51.8625       1   \n",
       "8        3   2.0            349909  21.0750       4   \n",
       "9        3   8.0            349909  21.0750       4   \n",
       "10       3   3.0            349909  21.0750       4   \n",
       "11       3  29.0            349909  21.0750       4   \n",
       "12       3  27.0            347742  11.1333       3   \n",
       "13       3   1.0            347742  11.1333       3   \n",
       "\n",
       "                                                 Name  \n",
       "0                             Braund, Mr. Owen Harris  \n",
       "1   Cumings, Mrs. John Bradley (Florence Briggs Th...  \n",
       "2                              Heikkinen, Miss. Laina  \n",
       "3        Futrelle, Mrs. Jacques Heath (Lily May Peel)  \n",
       "4                         Futrelle, Mr. Jacques Heath  \n",
       "5                            Allen, Mr. William Henry  \n",
       "6                                    Moran, Mr. James  \n",
       "7                             McCarthy, Mr. Timothy J  \n",
       "8                      Palsson, Master. Gosta Leonard  \n",
       "9                       Palsson, Miss. Torborg Danira  \n",
       "10                         Palsson, Miss. Stina Viola  \n",
       "11        Palsson, Mrs. Nils (Alma Cornelia Berglund)  \n",
       "12  Johnson, Mrs. Oscar W (Elisabeth Vilhelmina Berg)  \n",
       "13                       Johnson, Miss. Eleanor Ileen  "
      ]
     },
     "execution_count": 59,
     "metadata": {},
     "output_type": "execute_result"
    }
   ],
   "source": [
    "titanic_2_df = titanic_df.merge(titanic_tickets_df, on = 'Ticket', how = 'inner')\n",
    "titanic_2_df.head(5)\n",
    "titanic_2_df.loc[:13,['Pclass','Age','Ticket','Fare','Tcount','Name']]"
   ]
  },
  {
   "cell_type": "markdown",
   "metadata": {},
   "source": [
    "I am curious about people who have the same last name. You would think they would be related and they are more likely share the same ticket. Lets investigate this. First I would like to capture the last name only to simplify the process.\n",
    "\n",
    "As you see below, there are 667 unique last names among the passengers. It makes sense to repeat the process we did for tickets, that is to find the number of last names shared by more than one passanger and there count. "
   ]
  },
  {
   "cell_type": "code",
   "execution_count": 60,
   "metadata": {
    "collapsed": false
   },
   "outputs": [],
   "source": [
    "titanic_2_df['Last_Name'] = titanic_2_df['Name'].str.split(', ').str[0]  \n"
   ]
  },
  {
   "cell_type": "code",
   "execution_count": 61,
   "metadata": {
    "collapsed": false
   },
   "outputs": [
    {
     "name": "stdout",
     "output_type": "stream",
     "text": [
      "Count of unique last names  667\n",
      "Count of last names that are shared by at least two passenegers  133\n",
      "Sawyer      1\n",
      "Karaic      1\n",
      "Karun       1\n",
      "Carlsson    2\n",
      "Svensson    2\n",
      "Name: Last_Name, dtype: int64 0       Braund\n",
      "1      Cumings\n",
      "2    Heikkinen\n",
      "3     Futrelle\n",
      "4     Futrelle\n",
      "Name: Last_Name, dtype: object\n"
     ]
    },
    {
     "data": {
      "text/plain": [
       "1    534\n",
       "2     83\n",
       "3     28\n",
       "4     14\n",
       "5      1\n",
       "6      5\n",
       "7      1\n",
       "9      1\n",
       "Name: Lcount, dtype: int64"
      ]
     },
     "execution_count": 61,
     "metadata": {},
     "output_type": "execute_result"
    }
   ],
   "source": [
    "#How many last names are unique? \n",
    "#How many passengers share the same last name?\n",
    "\n",
    "titanic_lastname = titanic_2_df['Last_Name'].value_counts(sort=False)\n",
    "print 'Count of unique last names ', len(titanic_lastname)\n",
    "print 'Count of last names that are shared by at least two passenegers ',\\\n",
    "sum(titanic_lastname > 1)\n",
    "print titanic_lastname[:5], titanic_2_df['Last_Name'][:5]\n",
    "\n",
    "ln_idx = titanic_lastname.index.tolist() #I need a column 'Last_Name' when I use .merge function\n",
    "titanic_lastname_df = pd.DataFrame({'Last_Name': ln_idx, 'Lcount':titanic_lastname})\n",
    "titanic_lastname_df[titanic_lastname_df['Lcount']==9]\n",
    "titanic_lastname_df['Lcount'].value_counts(sort=False)"
   ]
  },
  {
   "cell_type": "markdown",
   "metadata": {},
   "source": [
    "From the above analysis we see that, most likely, many passengers on the same ticket also share the same last name. However we know that there are passengers on the same ticket with different last names and there are passengers with the same last name who are on different tickets. Of course, passengers with the same last name are not necessarily related. I will not pursue the roll of the the last name any further.\n",
    "\n",
    "Now I will focus only on the counts of tickets with multiple passengers mainly to resolve the fare that passengers had paid to be on board. Towards this goal we combine the titanic data with the count data for each passenger. "
   ]
  },
  {
   "cell_type": "code",
   "execution_count": 62,
   "metadata": {
    "collapsed": true
   },
   "outputs": [],
   "source": [
    "# tickets with multiple passangers are more expensive\n",
    "    # to get a sence of its price for these passangers\n",
    "    # we devide the fare by the number of passangers\n",
    "    # who share the same ticket\n",
    "    # 'Fare_pp' refers to Fare_per_passanger\n",
    "\n",
    "titanic_2_df['Fare_pp']=(titanic_2_df['Fare']/(titanic_2_df['Tcount'].apply(pd.to_numeric)))"
   ]
  },
  {
   "cell_type": "markdown",
   "metadata": {},
   "source": [
    "After this point we will not add or modify the titanic data frame. \n",
    "\n",
    "Age is the most important factor with missing data. Therefore I want to have the data set in different formats some with or without these  passengers data.\n",
    "\n",
    "I will ignore the cabin missing data for now but keep it in mind. We will refer to this as it will explaing the variability in fare as you will see below. "
   ]
  },
  {
   "cell_type": "code",
   "execution_count": 73,
   "metadata": {
    "collapsed": false
   },
   "outputs": [],
   "source": [
    "# identifying records of passenger with missing age for titanic_2_df DataFrame\n",
    "s2 = titanic_2_df['Age'].isnull()\n",
    "#print 'There are ', len(titanic_2_df['Age'][s2]), ' missing Age records'\n",
    "\n",
    "# To be used later\n",
    "index_age_nan = titanic_2_df['Age'].index[s2]\n",
    "index_age_in = titanic_2_df['Age'].index[~s2]\n",
    "\n",
    "titanic_2a_df = titanic_2_df.iloc[index_age_in]\n",
    "titanic_2am_df = titanic_2_df.iloc[index_age_nan]"
   ]
  },
  {
   "cell_type": "markdown",
   "metadata": {},
   "source": [
    "Below are blox plots that compares the fair across the upper, middle, and the lower (socio-ecomic) classes, without the outliers fares that at greater than 200. The other boxplot is for fare per passenger. \n",
    "\n",
    "When comparing the box plots we observe the variability of fare per passenger is less for the middle and lower classes but not for the upper class. \n",
    "\n",
    "The variability of fares for the middle and lower class only, is explained by tickets with multiple passenegers. Not the case of upper class. \n",
    "\n",
    "Why did some upper class passangers had low fares as low as the lower class while others paid way more than upper class average, is not so clear! More on this below. \n"
   ]
  },
  {
   "cell_type": "code",
   "execution_count": 66,
   "metadata": {
    "collapsed": false
   },
   "outputs": [
    {
     "data": {
      "image/png": "[encoded data removed]",
      "text/plain": [
       "<matplotlib.figure.Figure at 0xeeaaba8>"
      ]
     },
     "metadata": {},
     "output_type": "display_data"
    }
   ],
   "source": [
    "fare_upper_limit = 200\n",
    "low_cost_2_df = titanic_2_df.query('Fare < {}'.format(fare_upper_limit))\n",
    "sns.boxplot(x='Class', y='Fare', data=low_cost_2_df, showmeans=True)\n",
    "plt.title('Boxplot of Fare per SE classes')\n",
    "plt.show()"
   ]
  },
  {
   "cell_type": "code",
   "execution_count": 71,
   "metadata": {
    "collapsed": false
   },
   "outputs": [
    {
     "data": {
      "image/png": "[encoded data removed]",
      "text/plain": [
       "<matplotlib.figure.Figure at 0x107c3ef0>"
      ]
     },
     "metadata": {},
     "output_type": "display_data"
    }
   ],
   "source": [
    "plt.figure(figsize=(6,8))\n",
    "sns.boxplot(x='Class',y='Fare_pp', data=low_cost_2_df, showmeans = True, palette=('muted'))\n",
    "plt.title('Boxplots of Fare per passenger per SE classes')\n",
    "plt.ylabel('Fare per passenger')\n",
    "plt.show()"
   ]
  },
  {
   "cell_type": "markdown",
   "metadata": {},
   "source": [
    "I am a bit curious about the trail of upper extreme fare values in the lower class. Below I calculate the percentage of lower class passeneger who exceed the upper wisker limit in the box plot.  "
   ]
  },
  {
   "cell_type": "code",
   "execution_count": 68,
   "metadata": {
    "collapsed": false
   },
   "outputs": [
    {
     "name": "stdout",
     "output_type": "stream",
     "text": [
      "The upper wisker limit of the boxplot for the Lower class is  9.25\n",
      "Number of lower class passengers who paid relatively much higher fare is  67\n",
      "This comprises  13.6 % of Lower class passengers.\n",
      "The Lower class upper wisker limit is the  86.4 percentile.\n"
     ]
    }
   ],
   "source": [
    "# third quartile\n",
    "q75 = titanic_2_df['Fare_pp'][titanic_2_df['Class']=='Lower'].quantile(0.75)\n",
    "# first quartile\n",
    "q25 = titanic_2_df['Fare_pp'][titanic_2_df['Class']=='Lower'].quantile(0.25)\n",
    "# computeing the upper wisker limit using the interquartile range\n",
    "upper_wisker_limit =  (q75-q25)*1.5+q75\n",
    "print 'The upper wisker limit of the boxplot for the Lower class is ',upper_wisker_limit\n",
    "\n",
    "# number of lower class passengers who are above the upper end wisker\n",
    "Lower_extreme = titanic_2_df['Fare_pp'][(titanic_2_df['Class'] == 'Lower') & \\\n",
    "                        (titanic_2_df['Fare_pp'] > upper_wisker_limit)].value_counts().sum()\n",
    "print 'Number of lower class passengers who paid relatively much higher fare is ',Lower_extreme\n",
    "\n",
    "Lower_extreme_percent = round(1.0*Lower_extreme/sum(titanic_2_df['Class']=='Lower'),3)\n",
    "print 'This comprises ',Lower_extreme_percent*100,'% of Lower class passengers.'\n",
    "print 'The Lower class upper wisker limit is the ', (1-Lower_extreme_percent)*100,'percentile.'"
   ]
  },
  {
   "cell_type": "markdown",
   "metadata": {},
   "source": [
    "Here is a histogram of fare per passenger broken down by class."
   ]
  },
  {
   "cell_type": "code",
   "execution_count": 109,
   "metadata": {
    "collapsed": false
   },
   "outputs": [
    {
     "data": {
      "image/png": "[encoded data removed]",
      "text/plain": [
       "<matplotlib.figure.Figure at 0x10f334a8>"
      ]
     },
     "metadata": {},
     "output_type": "display_data"
    }
   ],
   "source": [
    "# Histogram of Fare for each of the classes\n",
    "plt.figure(figsize=(10,6))\n",
    "ax = sns.distplot(titanic_2_df['Fare_pp'][titanic_2_df['Class'] == 'Upper'], bins=10, kde=False, rug=False,\\\n",
    "                 color='orange', label='Upper')\n",
    "\n",
    "sns.distplot(titanic_2_df['Fare_pp'][titanic_2_df['Class'] == 'Middle'], bins=10, kde=False, rug=False,label = 'Middle',\\\n",
    "             color = 'red',ax=ax)\n",
    "sns.distplot(titanic_2_df['Fare_pp'][titanic_2_df['Class'] == 'Lower'], bins=10, kde=False, rug=False,label='Lower', \\\n",
    "             color='blue',ax=ax)\n",
    "ax.set(ylabel='Count', title='Distribution of fare per pasedenger')\n",
    "#unfortunately the lebel in sns.distplot above did not work so I have to enforce it here\n",
    "ax.legend(('Upper','Middle','Lower'))\n",
    "plt.show()"
   ]
  },
  {
   "cell_type": "markdown",
   "metadata": {},
   "source": [
    "Lets look at the distribution of passengers across the three harbors (ports) for each of the classes separately. \n",
    "\n",
    "Please note, in studying the Embarkation site patterns I am including all passengers. Thant is I am not excluding those with missing age. "
   ]
  },
  {
   "cell_type": "code",
   "execution_count": 74,
   "metadata": {
    "collapsed": false
   },
   "outputs": [
    {
     "name": "stdout",
     "output_type": "stream",
     "text": [
      "lower class embarked  at : S is  353  C is  66  Q is  72\n",
      "Number of passneger by embarkation site\n",
      "C    168\n",
      "Q     77\n",
      "S    644\n",
      "Name: Embarked, dtype: int64\n",
      "\n",
      " Number of Lower class passengers by embarkation site\n",
      "C     66\n",
      "Q     72\n",
      "S    353\n",
      "Name: Embarked, dtype: int64\n",
      "\n",
      " Number of Middle class passengers by embarkation site\n",
      "C     17\n",
      "Q      3\n",
      "S    164\n",
      "Name: Embarked, dtype: int64\n",
      "\n",
      " Number of Upper class passengers by embarkation site\n",
      "C     85\n",
      "Q      2\n",
      "S    127\n",
      "Name: Embarked, dtype: int64\n"
     ]
    }
   ],
   "source": [
    "#C = Cherbourg, Q = Queenstown, S = Southampton\n",
    "idx_pclass3_emb_S = (titanic_2_df['Pclass'] == 3) & (titanic_2_df['Embarked'] == 'S')\n",
    "idx_pclass3_emb_C = (titanic_2_df['Pclass'] == 3) & (titanic_2_df['Embarked'] == 'C')\n",
    "idx_pclass3_emb_Q = (titanic_2_df['Pclass'] == 3) & (titanic_2_df['Embarked'] == 'Q')\n",
    "print 'lower class embarked  at :', 'S is ',sum(idx_pclass3_emb_S), ' C is ', \\\n",
    "sum(idx_pclass3_emb_C), ' Q is ', sum(idx_pclass3_emb_Q)\n",
    "\n",
    "print 'Number of passneger by embarkation site'\n",
    "print titanic_2_df['Embarked'].value_counts(sort=False)\n",
    "print '\\n Number of Lower class passengers by embarkation site'\n",
    "print titanic_2_df['Embarked'][titanic_2_df['Pclass'] == 3].value_counts(sort=False)\n",
    "\n",
    "print '\\n Number of Middle class passengers by embarkation site'\n",
    "print titanic_2_df['Embarked'][titanic_2_df['Pclass'] == 2].value_counts(sort=False)\n",
    "\n",
    "print '\\n Number of Upper class passengers by embarkation site'\n",
    "print titanic_2_df['Embarked'][titanic_2_df['Pclass'] == 1].value_counts(sort=False)"
   ]
  },
  {
   "cell_type": "code",
   "execution_count": 78,
   "metadata": {
    "collapsed": false
   },
   "outputs": [
    {
     "data": {
      "image/png": "[encoded data removed]",
      "text/plain": [
       "<matplotlib.figure.Figure at 0xe55c320>"
      ]
     },
     "metadata": {},
     "output_type": "display_data"
    }
   ],
   "source": [
    "plt.figure(figsize = (10,6))\n",
    "lower_class = titanic_2_df[titanic_2_df['Class'] == 'Lower']\n",
    "ax = sns.countplot(x='Tcount', hue = 'Embarked', data = lower_class)\n",
    "ax.legend(('Southampton','Queenstown','Cherbourg'), loc='upper right')\n",
    "ax.set(title = 'Counts of lower class passengers per ticket by embarkation site ', \\\n",
    "      xlabel='Passenger(s) per Ticket'  )\n",
    "plt.show()"
   ]
  },
  {
   "cell_type": "code",
   "execution_count": 79,
   "metadata": {
    "collapsed": false
   },
   "outputs": [
    {
     "data": {
      "image/png": "[encoded data removed]",
      "text/plain": [
       "<matplotlib.figure.Figure at 0x10865fd0>"
      ]
     },
     "metadata": {},
     "output_type": "display_data"
    }
   ],
   "source": [
    "plt.figure(figsize = (10,6))\n",
    "middle_class = titanic_2_df[titanic_2_df['Class'] == 'Middle']\n",
    "ax = sns.countplot(x='Tcount', hue = 'Embarked', data = middle_class)\n",
    "ax.legend(('Cherbourg','Southampton', 'Queenstown'), loc='upper right')\n",
    "ax.set(title = 'Counts of middle class passengers per ticket by embarkation site ', \\\n",
    "      xlabel='Passenger(s) per Ticket'  )\n",
    "plt.show()"
   ]
  },
  {
   "cell_type": "code",
   "execution_count": 80,
   "metadata": {
    "collapsed": false,
    "scrolled": true
   },
   "outputs": [
    {
     "data": {
      "image/png": "[encoded data removed]",
      "text/plain": [
       "<matplotlib.figure.Figure at 0xf192668>"
      ]
     },
     "metadata": {},
     "output_type": "display_data"
    }
   ],
   "source": [
    "plt.figure(figsize = (10,6))\n",
    "upper_class = titanic_2_df[titanic_2_df['Class'] == 'Upper']\n",
    "ax = sns.countplot(x='Tcount', hue = 'Embarked', data = upper_class)\n",
    "ax.legend(('Cherbourg','Southampton', 'Queenstown'), loc='upper right')\n",
    "ax.set(title = 'Counts of upper class passengers per ticket by embarkation site ', \\\n",
    "xlabel='Passenger(s) per Ticket'      )\n",
    "plt.show()"
   ]
  },
  {
   "cell_type": "markdown",
   "metadata": {},
   "source": [
    "\n",
    "The upper class embarkation distibution is interesting and quite distinct from the middle and lower classes. From the above plots we see that most of the middle and lower class passengers boarded from Southampton. While the upper class passengers who embarked from Cherbourg are about 2/3 of those who embarked from Southampton. \n",
    "\n",
    "It is interesting to observe that the upper class consistantly distinct from the other two classes. \n",
    "\n",
    "I am cursious about the fare per passenger for the upper class in particular. Lets look at a box plot of fare per passenger comparing the three ports. \n"
   ]
  },
  {
   "cell_type": "code",
   "execution_count": 82,
   "metadata": {
    "collapsed": false
   },
   "outputs": [
    {
     "data": {
      "image/png": "[encoded data removed]",
      "text/plain": [
       "<matplotlib.figure.Figure at 0xeba7dd8>"
      ]
     },
     "metadata": {},
     "output_type": "display_data"
    }
   ],
   "source": [
    "# box plot of upper class passengers fare by embarkation site\n",
    "\n",
    "idx_pclass1_emb_S = (titanic_2_df['Pclass'] == 1) & (titanic_2_df['Embarked'] == 'S')\n",
    "idx_pclass1_emb_C = (titanic_2_df['Pclass'] == 1) & (titanic_2_df['Embarked'] == 'C')\n",
    "idx_pclass1_emb_Q = (titanic_2_df['Pclass'] == 1) & (titanic_2_df['Embarked'] == 'Q')\n",
    "\n",
    "data_pclass1_fare = pd.DataFrame({'Southampton': titanic_2_df['Fare_pp'][idx_pclass1_emb_S],\\\n",
    "'Cherborg': titanic_2_df['Fare_pp'][idx_pclass1_emb_C], \\\n",
    "'Queenstown':titanic_2_df['Fare_pp'][idx_pclass1_emb_Q]})\n",
    "flierprops = dict(marker='o', markerfacecolor='black', markersize=4,\n",
    "                  linestyle='none')\n",
    "ax = data_pclass1_fare.plot.box(ylim=(-5,150), showmeans=True, flierprops=flierprops)\n",
    "ax.set_xlabel('Embarkation site')\n",
    "ax.set_ylabel('Fare')\n",
    "ax.set_title('Comparing fare of upper class passengers embarked from different sites ')\n",
    "plt.show()"
   ]
  },
  {
   "cell_type": "code",
   "execution_count": 84,
   "metadata": {
    "collapsed": false
   },
   "outputs": [
    {
     "data": {
      "image/png": "[encoded data removed]",
      "text/plain": [
       "<matplotlib.figure.Figure at 0xcafc438>"
      ]
     },
     "metadata": {},
     "output_type": "display_data"
    }
   ],
   "source": [
    "# same box plot as above but using seaborn instead of the panda wrapper.\n",
    "\n",
    "# renameing the letters of embarkation site with name itself for x_ticks labeling \n",
    "upper_class.loc[:,'Embarked'].replace({'S':'Southampton','C':'Cherborg','Q':'Queenstown'},inplace=True)\n",
    "\n",
    "ax = sns.boxplot(x='Embarked', y='Fare_pp', data=upper_class, showmeans=True)\n",
    "ax.set_xlabel('Embarkation site')\n",
    "ax.set_ylabel('Fare')\n",
    "ax.set_title('Comparing fare of upper class passengers embarked from different sites ')\n",
    "plt.show()"
   ]
  },
  {
   "cell_type": "code",
   "execution_count": 85,
   "metadata": {
    "collapsed": false
   },
   "outputs": [
    {
     "data": {
      "image/png": "[encoded data removed]",
      "text/plain": [
       "<matplotlib.figure.Figure at 0xf0a5358>"
      ]
     },
     "metadata": {},
     "output_type": "display_data"
    }
   ],
   "source": [
    "lower_class.loc[:,'Embarked'].replace({'S':'Southampton','C':'Cherborg','Q':'Queenstown'},inplace=True)\n",
    "\n",
    "ax=sns.boxplot(x='Embarked', y='Fare_pp',data=lower_class, showmeans=True)\n",
    "ax.set_title('Comparing fare of lower class passengers embarked from different sites ')\n",
    "plt.show()"
   ]
  },
  {
   "cell_type": "code",
   "execution_count": 86,
   "metadata": {
    "collapsed": false
   },
   "outputs": [
    {
     "data": {
      "text/html": [
       "<div>\n",
       "<table border=\"1\" class=\"dataframe\">\n",
       "  <thead>\n",
       "    <tr style=\"text-align: right;\">\n",
       "      <th></th>\n",
       "      <th></th>\n",
       "      <th></th>\n",
       "      <th>Fare</th>\n",
       "      <th>Fare_pp</th>\n",
       "    </tr>\n",
       "    <tr>\n",
       "      <th>Pclass</th>\n",
       "      <th>Sex</th>\n",
       "      <th>Embarked</th>\n",
       "      <th></th>\n",
       "      <th></th>\n",
       "    </tr>\n",
       "  </thead>\n",
       "  <tbody>\n",
       "    <tr>\n",
       "      <th rowspan=\"6\" valign=\"top\">1</th>\n",
       "      <th rowspan=\"3\" valign=\"top\">female</th>\n",
       "      <th>C</th>\n",
       "      <td>83.1583</td>\n",
       "      <td>45.539600</td>\n",
       "    </tr>\n",
       "    <tr>\n",
       "      <th>Q</th>\n",
       "      <td>90.0000</td>\n",
       "      <td>45.000000</td>\n",
       "    </tr>\n",
       "    <tr>\n",
       "      <th>S</th>\n",
       "      <td>79.6500</td>\n",
       "      <td>31.650000</td>\n",
       "    </tr>\n",
       "    <tr>\n",
       "      <th rowspan=\"3\" valign=\"top\">male</th>\n",
       "      <th>C</th>\n",
       "      <td>61.6792</td>\n",
       "      <td>38.679167</td>\n",
       "    </tr>\n",
       "    <tr>\n",
       "      <th>Q</th>\n",
       "      <td>90.0000</td>\n",
       "      <td>45.000000</td>\n",
       "    </tr>\n",
       "    <tr>\n",
       "      <th>S</th>\n",
       "      <td>35.0000</td>\n",
       "      <td>30.000000</td>\n",
       "    </tr>\n",
       "    <tr>\n",
       "      <th rowspan=\"6\" valign=\"top\">2</th>\n",
       "      <th rowspan=\"3\" valign=\"top\">female</th>\n",
       "      <th>C</th>\n",
       "      <td>24.0000</td>\n",
       "      <td>13.858300</td>\n",
       "    </tr>\n",
       "    <tr>\n",
       "      <th>Q</th>\n",
       "      <td>12.3500</td>\n",
       "      <td>12.350000</td>\n",
       "    </tr>\n",
       "    <tr>\n",
       "      <th>S</th>\n",
       "      <td>23.0000</td>\n",
       "      <td>13.000000</td>\n",
       "    </tr>\n",
       "    <tr>\n",
       "      <th rowspan=\"3\" valign=\"top\">male</th>\n",
       "      <th>C</th>\n",
       "      <td>25.8604</td>\n",
       "      <td>15.040600</td>\n",
       "    </tr>\n",
       "    <tr>\n",
       "      <th>Q</th>\n",
       "      <td>12.3500</td>\n",
       "      <td>12.350000</td>\n",
       "    </tr>\n",
       "    <tr>\n",
       "      <th>S</th>\n",
       "      <td>13.0000</td>\n",
       "      <td>13.000000</td>\n",
       "    </tr>\n",
       "    <tr>\n",
       "      <th rowspan=\"6\" valign=\"top\">3</th>\n",
       "      <th rowspan=\"3\" valign=\"top\">female</th>\n",
       "      <th>C</th>\n",
       "      <td>14.4583</td>\n",
       "      <td>7.227100</td>\n",
       "    </tr>\n",
       "    <tr>\n",
       "      <th>Q</th>\n",
       "      <td>7.7500</td>\n",
       "      <td>7.750000</td>\n",
       "    </tr>\n",
       "    <tr>\n",
       "      <th>S</th>\n",
       "      <td>14.4500</td>\n",
       "      <td>7.925000</td>\n",
       "    </tr>\n",
       "    <tr>\n",
       "      <th rowspan=\"3\" valign=\"top\">male</th>\n",
       "      <th>C</th>\n",
       "      <td>7.2292</td>\n",
       "      <td>7.229200</td>\n",
       "    </tr>\n",
       "    <tr>\n",
       "      <th>Q</th>\n",
       "      <td>7.7500</td>\n",
       "      <td>7.750000</td>\n",
       "    </tr>\n",
       "    <tr>\n",
       "      <th>S</th>\n",
       "      <td>8.0500</td>\n",
       "      <td>7.895800</td>\n",
       "    </tr>\n",
       "  </tbody>\n",
       "</table>\n",
       "</div>"
      ],
      "text/plain": [
       "                           Fare    Fare_pp\n",
       "Pclass Sex    Embarked                    \n",
       "1      female C         83.1583  45.539600\n",
       "              Q         90.0000  45.000000\n",
       "              S         79.6500  31.650000\n",
       "       male   C         61.6792  38.679167\n",
       "              Q         90.0000  45.000000\n",
       "              S         35.0000  30.000000\n",
       "2      female C         24.0000  13.858300\n",
       "              Q         12.3500  12.350000\n",
       "              S         23.0000  13.000000\n",
       "       male   C         25.8604  15.040600\n",
       "              Q         12.3500  12.350000\n",
       "              S         13.0000  13.000000\n",
       "3      female C         14.4583   7.227100\n",
       "              Q          7.7500   7.750000\n",
       "              S         14.4500   7.925000\n",
       "       male   C          7.2292   7.229200\n",
       "              Q          7.7500   7.750000\n",
       "              S          8.0500   7.895800"
      ]
     },
     "execution_count": 86,
     "metadata": {},
     "output_type": "execute_result"
    }
   ],
   "source": [
    "titanic_group_fare_pp_by_class_count = titanic_2_df.groupby(['Pclass','Sex','Embarked'])\n",
    "titanic_group_fare_pp_by_class_count['Fare','Fare_pp'].median()"
   ]
  },
  {
   "cell_type": "code",
   "execution_count": 64,
   "metadata": {
    "collapsed": true
   },
   "outputs": [],
   "source": [
    "#print titanic_2_df.groupby(['Pclass','Tcount'])['Fare_pp'].median()"
   ]
  },
  {
   "cell_type": "code",
   "execution_count": 74,
   "metadata": {
    "collapsed": false
   },
   "outputs": [
    {
     "data": {
      "text/html": [
       "<div>\n",
       "<table border=\"1\" class=\"dataframe\">\n",
       "  <thead>\n",
       "    <tr style=\"text-align: right;\">\n",
       "      <th></th>\n",
       "      <th></th>\n",
       "      <th>Fare</th>\n",
       "      <th>Fare_pp</th>\n",
       "      <th>Tcount</th>\n",
       "    </tr>\n",
       "    <tr>\n",
       "      <th>Pclass</th>\n",
       "      <th>Embarked</th>\n",
       "      <th></th>\n",
       "      <th></th>\n",
       "      <th></th>\n",
       "    </tr>\n",
       "  </thead>\n",
       "  <tbody>\n",
       "    <tr>\n",
       "      <th rowspan=\"3\" valign=\"top\">1</th>\n",
       "      <th>C</th>\n",
       "      <td>512.3292</td>\n",
       "      <td>211.5000</td>\n",
       "      <td>4</td>\n",
       "    </tr>\n",
       "    <tr>\n",
       "      <th>Q</th>\n",
       "      <td>90.0000</td>\n",
       "      <td>45.0000</td>\n",
       "      <td>2</td>\n",
       "    </tr>\n",
       "    <tr>\n",
       "      <th>S</th>\n",
       "      <td>263.0000</td>\n",
       "      <td>221.7792</td>\n",
       "      <td>4</td>\n",
       "    </tr>\n",
       "    <tr>\n",
       "      <th rowspan=\"3\" valign=\"top\">2</th>\n",
       "      <th>C</th>\n",
       "      <td>41.5792</td>\n",
       "      <td>27.7208</td>\n",
       "      <td>3</td>\n",
       "    </tr>\n",
       "    <tr>\n",
       "      <th>Q</th>\n",
       "      <td>12.3500</td>\n",
       "      <td>12.3500</td>\n",
       "      <td>1</td>\n",
       "    </tr>\n",
       "    <tr>\n",
       "      <th>S</th>\n",
       "      <td>73.5000</td>\n",
       "      <td>32.5000</td>\n",
       "      <td>5</td>\n",
       "    </tr>\n",
       "    <tr>\n",
       "      <th rowspan=\"3\" valign=\"top\">3</th>\n",
       "      <th>C</th>\n",
       "      <td>22.3583</td>\n",
       "      <td>21.6792</td>\n",
       "      <td>4</td>\n",
       "    </tr>\n",
       "    <tr>\n",
       "      <th>Q</th>\n",
       "      <td>29.1250</td>\n",
       "      <td>15.5000</td>\n",
       "      <td>5</td>\n",
       "    </tr>\n",
       "    <tr>\n",
       "      <th>S</th>\n",
       "      <td>69.5500</td>\n",
       "      <td>22.5250</td>\n",
       "      <td>7</td>\n",
       "    </tr>\n",
       "  </tbody>\n",
       "</table>\n",
       "</div>"
      ],
      "text/plain": [
       "                     Fare   Fare_pp  Tcount\n",
       "Pclass Embarked                            \n",
       "1      C         512.3292  211.5000       4\n",
       "       Q          90.0000   45.0000       2\n",
       "       S         263.0000  221.7792       4\n",
       "2      C          41.5792   27.7208       3\n",
       "       Q          12.3500   12.3500       1\n",
       "       S          73.5000   32.5000       5\n",
       "3      C          22.3583   21.6792       4\n",
       "       Q          29.1250   15.5000       5\n",
       "       S          69.5500   22.5250       7"
      ]
     },
     "execution_count": 74,
     "metadata": {},
     "output_type": "execute_result"
    }
   ],
   "source": [
    "titanic_group_fare_pp_by_class_count = titanic_2_df.groupby(['Pclass','Embarked'])\n",
    "titanic_group_fare_pp_by_class_count['Fare','Fare_pp','Tcount'].max()"
   ]
  },
  {
   "cell_type": "markdown",
   "metadata": {},
   "source": [
    "As we see above, there is more variability among upper class passengers who embarked from Cherbourg. Recall that cabins are better recorded for upper class passengers than the others.\n",
    "When we examine the fare for different cabins we see that upper class passengers with cabins have higher fares, some passengers have more than one cabin and they paid more. Those who embarked from Cherbourg with cabins paid the highest.\n",
    "\n",
    "However, middle and lower class passengers with cabins did not pay differently than those with recorded cabins. \n",
    "\n",
    "As we see from the table above that when we compare the medians among the three social classes across the three sights of embarkation we find that this phenomenon occured only for the upper class the median for the middle and lower classes is relatively the same for those who embarked from the three ports. Also we observe that there is no significant diffence in fares between males and females. \n",
    "\n",
    "The second table above shows the distribution fare per passenger for upper class increased for tickets that had more than one passenger on it. While it decreased or stayed consistent for the middle and lower classes. "
   ]
  },
  {
   "cell_type": "markdown",
   "metadata": {},
   "source": [
    "## Survival patterns \n",
    "\n",
    "Now we would like to analyse charateristics of those who survived."
   ]
  },
  {
   "cell_type": "code",
   "execution_count": 75,
   "metadata": {
    "collapsed": false
   },
   "outputs": [
    {
     "data": {
      "text/html": [
       "<div>\n",
       "<table border=\"1\" class=\"dataframe\">\n",
       "  <thead>\n",
       "    <tr style=\"text-align: right;\">\n",
       "      <th></th>\n",
       "      <th></th>\n",
       "      <th></th>\n",
       "      <th>Age</th>\n",
       "      <th>Fare_pp</th>\n",
       "    </tr>\n",
       "    <tr>\n",
       "      <th>Survival status</th>\n",
       "      <th>Class</th>\n",
       "      <th>Sex</th>\n",
       "      <th></th>\n",
       "      <th></th>\n",
       "    </tr>\n",
       "  </thead>\n",
       "  <tbody>\n",
       "    <tr>\n",
       "      <th rowspan=\"6\" valign=\"top\">Died</th>\n",
       "      <th rowspan=\"2\" valign=\"top\">Lower</th>\n",
       "      <th>female</th>\n",
       "      <td>55</td>\n",
       "      <td>72</td>\n",
       "    </tr>\n",
       "    <tr>\n",
       "      <th>male</th>\n",
       "      <td>215</td>\n",
       "      <td>300</td>\n",
       "    </tr>\n",
       "    <tr>\n",
       "      <th rowspan=\"2\" valign=\"top\">Middle</th>\n",
       "      <th>female</th>\n",
       "      <td>6</td>\n",
       "      <td>6</td>\n",
       "    </tr>\n",
       "    <tr>\n",
       "      <th>male</th>\n",
       "      <td>84</td>\n",
       "      <td>91</td>\n",
       "    </tr>\n",
       "    <tr>\n",
       "      <th rowspan=\"2\" valign=\"top\">Upper</th>\n",
       "      <th>female</th>\n",
       "      <td>3</td>\n",
       "      <td>3</td>\n",
       "    </tr>\n",
       "    <tr>\n",
       "      <th>male</th>\n",
       "      <td>61</td>\n",
       "      <td>77</td>\n",
       "    </tr>\n",
       "    <tr>\n",
       "      <th rowspan=\"6\" valign=\"top\">Survived</th>\n",
       "      <th rowspan=\"2\" valign=\"top\">Lower</th>\n",
       "      <th>female</th>\n",
       "      <td>47</td>\n",
       "      <td>72</td>\n",
       "    </tr>\n",
       "    <tr>\n",
       "      <th>male</th>\n",
       "      <td>38</td>\n",
       "      <td>47</td>\n",
       "    </tr>\n",
       "    <tr>\n",
       "      <th rowspan=\"2\" valign=\"top\">Middle</th>\n",
       "      <th>female</th>\n",
       "      <td>68</td>\n",
       "      <td>70</td>\n",
       "    </tr>\n",
       "    <tr>\n",
       "      <th>male</th>\n",
       "      <td>15</td>\n",
       "      <td>17</td>\n",
       "    </tr>\n",
       "    <tr>\n",
       "      <th rowspan=\"2\" valign=\"top\">Upper</th>\n",
       "      <th>female</th>\n",
       "      <td>82</td>\n",
       "      <td>91</td>\n",
       "    </tr>\n",
       "    <tr>\n",
       "      <th>male</th>\n",
       "      <td>40</td>\n",
       "      <td>45</td>\n",
       "    </tr>\n",
       "  </tbody>\n",
       "</table>\n",
       "</div>"
      ],
      "text/plain": [
       "                               Age  Fare_pp\n",
       "Survival status Class  Sex                 \n",
       "Died            Lower  female   55       72\n",
       "                       male    215      300\n",
       "                Middle female    6        6\n",
       "                       male     84       91\n",
       "                Upper  female    3        3\n",
       "                       male     61       77\n",
       "Survived        Lower  female   47       72\n",
       "                       male     38       47\n",
       "                Middle female   68       70\n",
       "                       male     15       17\n",
       "                Upper  female   82       91\n",
       "                       male     40       45"
      ]
     },
     "execution_count": 75,
     "metadata": {},
     "output_type": "execute_result"
    }
   ],
   "source": [
    "titanic_grouped_by_survival_class_sex = titanic_2_df.groupby(['Survival status','Class','Sex'])\n",
    "titanic_grouped_by_survival_class_sex['Age','Fare_pp'].count()"
   ]
  },
  {
   "cell_type": "markdown",
   "metadata": {},
   "source": [
    "From the table above we find that 125 of those whose age was not recorded did not survive while only 52 whose age is missing did survive. \n",
    "\n",
    "Next we will look at the median age and fare per passenger. I prefer to look at the median because both variables have slightly skewed disributions.  "
   ]
  },
  {
   "cell_type": "code",
   "execution_count": 76,
   "metadata": {
    "collapsed": false
   },
   "outputs": [
    {
     "data": {
      "text/html": [
       "<div>\n",
       "<table border=\"1\" class=\"dataframe\">\n",
       "  <thead>\n",
       "    <tr style=\"text-align: right;\">\n",
       "      <th></th>\n",
       "      <th></th>\n",
       "      <th></th>\n",
       "      <th>Age</th>\n",
       "      <th>Fare_pp</th>\n",
       "    </tr>\n",
       "    <tr>\n",
       "      <th>Survival status</th>\n",
       "      <th>Class</th>\n",
       "      <th>Sex</th>\n",
       "      <th></th>\n",
       "      <th></th>\n",
       "    </tr>\n",
       "  </thead>\n",
       "  <tbody>\n",
       "    <tr>\n",
       "      <th rowspan=\"6\" valign=\"top\">Died</th>\n",
       "      <th rowspan=\"2\" valign=\"top\">Lower</th>\n",
       "      <th>female</th>\n",
       "      <td>22.0</td>\n",
       "      <td>7.7750</td>\n",
       "    </tr>\n",
       "    <tr>\n",
       "      <th>male</th>\n",
       "      <td>25.0</td>\n",
       "      <td>7.8958</td>\n",
       "    </tr>\n",
       "    <tr>\n",
       "      <th rowspan=\"2\" valign=\"top\">Middle</th>\n",
       "      <th>female</th>\n",
       "      <td>32.5</td>\n",
       "      <td>13.0000</td>\n",
       "    </tr>\n",
       "    <tr>\n",
       "      <th>male</th>\n",
       "      <td>30.5</td>\n",
       "      <td>13.0000</td>\n",
       "    </tr>\n",
       "    <tr>\n",
       "      <th rowspan=\"2\" valign=\"top\">Upper</th>\n",
       "      <th>female</th>\n",
       "      <td>25.0</td>\n",
       "      <td>37.8875</td>\n",
       "    </tr>\n",
       "    <tr>\n",
       "      <th>male</th>\n",
       "      <td>45.5</td>\n",
       "      <td>33.5000</td>\n",
       "    </tr>\n",
       "    <tr>\n",
       "      <th rowspan=\"6\" valign=\"top\">Survived</th>\n",
       "      <th rowspan=\"2\" valign=\"top\">Lower</th>\n",
       "      <th>female</th>\n",
       "      <td>19.0</td>\n",
       "      <td>7.7625</td>\n",
       "    </tr>\n",
       "    <tr>\n",
       "      <th>male</th>\n",
       "      <td>25.0</td>\n",
       "      <td>7.9250</td>\n",
       "    </tr>\n",
       "    <tr>\n",
       "      <th rowspan=\"2\" valign=\"top\">Middle</th>\n",
       "      <th>female</th>\n",
       "      <td>28.0</td>\n",
       "      <td>13.0000</td>\n",
       "    </tr>\n",
       "    <tr>\n",
       "      <th>male</th>\n",
       "      <td>3.0</td>\n",
       "      <td>13.0000</td>\n",
       "    </tr>\n",
       "    <tr>\n",
       "      <th rowspan=\"2\" valign=\"top\">Upper</th>\n",
       "      <th>female</th>\n",
       "      <td>35.0</td>\n",
       "      <td>40.0000</td>\n",
       "    </tr>\n",
       "    <tr>\n",
       "      <th>male</th>\n",
       "      <td>36.0</td>\n",
       "      <td>30.0000</td>\n",
       "    </tr>\n",
       "  </tbody>\n",
       "</table>\n",
       "</div>"
      ],
      "text/plain": [
       "                                Age  Fare_pp\n",
       "Survival status Class  Sex                  \n",
       "Died            Lower  female  22.0   7.7750\n",
       "                       male    25.0   7.8958\n",
       "                Middle female  32.5  13.0000\n",
       "                       male    30.5  13.0000\n",
       "                Upper  female  25.0  37.8875\n",
       "                       male    45.5  33.5000\n",
       "Survived        Lower  female  19.0   7.7625\n",
       "                       male    25.0   7.9250\n",
       "                Middle female  28.0  13.0000\n",
       "                       male     3.0  13.0000\n",
       "                Upper  female  35.0  40.0000\n",
       "                       male    36.0  30.0000"
      ]
     },
     "execution_count": 76,
     "metadata": {},
     "output_type": "execute_result"
    }
   ],
   "source": [
    "titanic_grouped_by_survival_class_sex['Age','Fare_pp'].median()"
   ]
  },
  {
   "cell_type": "code",
   "execution_count": 77,
   "metadata": {
    "collapsed": false
   },
   "outputs": [
    {
     "data": {
      "text/plain": [
       "Survived  Class   Embarked\n",
       "0         Lower   C            23\n",
       "                  Q            18\n",
       "                  S           229\n",
       "          Middle  C             7\n",
       "                  Q             1\n",
       "                  S            82\n",
       "          Upper   C            21\n",
       "                  Q             1\n",
       "                  S            42\n",
       "1         Lower   C            18\n",
       "                  Q             6\n",
       "                  S            61\n",
       "          Middle  C             8\n",
       "                  Q             1\n",
       "                  S            74\n",
       "          Upper   C            53\n",
       "                  Q             1\n",
       "                  S            66\n",
       "Name: PassengerId, dtype: int64"
      ]
     },
     "execution_count": 77,
     "metadata": {},
     "output_type": "execute_result"
    }
   ],
   "source": [
    "titanic_2a_df.groupby(['Survived','Class','Embarked'])['PassengerId'].count()"
   ]
  },
  {
   "cell_type": "code",
   "execution_count": 87,
   "metadata": {
    "collapsed": false
   },
   "outputs": [
    {
     "data": {
      "image/png": "[encoded data removed]",
      "text/plain": [
       "<matplotlib.figure.Figure at 0xedc6d30>"
      ]
     },
     "metadata": {},
     "output_type": "display_data"
    }
   ],
   "source": [
    "# identifying passengers in each of the three classes\n",
    "idx_pclass1 = titanic_2a_df['Pclass'] == 1 \n",
    "idx_pclass2 = titanic_2a_df['Pclass'] == 2 \n",
    "idx_pclass3 = titanic_2a_df['Pclass'] == 3 \n",
    "#identify passengers by sex\n",
    "idx_fem = titanic_2a_df['Sex'] == 'female'\n",
    "idx_male = titanic_2a_df['Sex'] == 'male'\n",
    "#identify passengers who survived and who died\n",
    "idx_surv_0 = titanic_2a_df['Survived'] == 0\n",
    "idx_surv_1 = titanic_2a_df['Survived'] == 1\n",
    "\n",
    "#identify female passengers  who died and who survived\n",
    "idx_surv0_fem = idx_surv_0 & idx_fem\n",
    "idx_surv1_fem = idx_surv_1 & idx_fem\n",
    "#identify male passengers who died and who survived\n",
    "idx_surv0_male = idx_surv_0 & idx_male\n",
    "idx_surv1_male = idx_surv_1 & idx_male\n",
    "\n",
    "# preparing the label\n",
    "surv=('Did not survive','Survived')\n",
    "# preparing data for first figure: females who survived and who died\n",
    "data_1 = [titanic_2a_df['Pclass'][idx_surv0_fem],titanic_2a_df['Pclass'][idx_surv1_fem]]\n",
    "#preparing data for second figure: males who survived and who died\n",
    "data_2 = [titanic_2a_df['Pclass'][idx_surv0_male],titanic_2a_df['Pclass'][idx_surv1_male]]\n",
    "\n",
    "# preparing for plot of two figures in one row\n",
    "fig, axes = plt.subplots(nrows=1, ncols=2,figsize=(10,4) )\n",
    "# preparing hight of bar charts of counts of \n",
    "#passengers in each class in each of the four groups\n",
    "\n",
    "fem_died = titanic_2a_df['Pclass'][idx_surv0_fem].value_counts(sort=False)\n",
    "fem_survived = titanic_2a_df['Pclass'][idx_surv1_fem].value_counts(sort=False)\n",
    "male_died = titanic_2a_df['Pclass'][idx_surv0_male].value_counts(sort=False)\n",
    "male_survived = titanic_2a_df['Pclass'][idx_surv1_male].value_counts(sort=False)\n",
    "#preparing bar chart\n",
    "# number of groups (classes: lower, middle,upper)\n",
    "ind = np.arange(3)\n",
    "#width of each bar\n",
    "width=0.3\n",
    "#first plot for females \n",
    "rec1 = axes[0].bar(ind,fem_died,width)\n",
    "rec2 = axes[0].bar(ind+width,fem_survived,width)\n",
    "# labeling the females plot\n",
    "axes[0].set_title('Females survival pattern in SE classes')\n",
    "axes[0].set_xticks(ind+width/2)\n",
    "axes[0].set_xticklabels(('Upper','Middle','Lower'))\n",
    "axes[0].set_xlabel('Class')\n",
    "axes[0].set_ylabel('Count')\n",
    "axes[0].set_ylim((0,250))\n",
    "axes[0].legend((rec1[0],rec2[0]),surv)\n",
    "# second plot for males\n",
    "rec1 = axes[1].bar(ind,male_died,width)\n",
    "rec2 = axes[1].bar(ind+width,male_survived,width)\n",
    "# labeling the males plot\n",
    "axes[1].set_title('Males survival pattern in SE classes')\n",
    "axes[1].set_xticks(ind+width/2)\n",
    "axes[1].set_xlabel('Class')\n",
    "axes[1].set_xticklabels(('Upper','Middle','Lower'))\n",
    "axes[1].set_ylim((0,250))\n",
    "axes[1].legend((rec1[0],rec2[0]),surv)\n",
    "\n",
    "plt.show()"
   ]
  },
  {
   "cell_type": "code",
   "execution_count": 88,
   "metadata": {
    "collapsed": false
   },
   "outputs": [
    {
     "data": {
      "image/png": "[encoded data removed]",
      "text/plain": [
       "<matplotlib.figure.Figure at 0xe6e1e10>"
      ]
     },
     "metadata": {},
     "output_type": "display_data"
    }
   ],
   "source": [
    "# Plot for females and males who died and survived by presence of absence of sibling or\n",
    "# spouse on board.\n",
    "\n",
    "# identify passenger who are with no sibling or spouse on board\n",
    "idx_sibsp_0 = titanic_2a_df['SibSp'] == 0\n",
    "# identify passenger who have at least one sibling or spouse on board\n",
    "idx_sibsp_1 = titanic_2a_df['SibSp'] >= 1\n",
    "\n",
    "# identify females who died or survived with no sibling or spouse on board\n",
    "idx_surv0_fem_sbsp0 = idx_surv0_fem & idx_sibsp_0\n",
    "idx_surv1_fem_sbsp0 = idx_surv1_fem & idx_sibsp_0\n",
    "# identify females who died or survived with sibling or spouse on board\n",
    "idx_surv0_fem_sbsp1 = idx_surv0_fem & idx_sibsp_1\n",
    "idx_surv1_fem_sbsp1 = idx_surv1_fem & idx_sibsp_1\n",
    "\n",
    "#identify males who died or survived with no sibling or spouse on board\n",
    "idx_surv0_male_sbsp0 = idx_surv0_male & idx_sibsp_0\n",
    "idx_surv1_male_sbsp0 = idx_surv1_male & idx_sibsp_0\n",
    "#identify males who died or survived with sibling or spouse on board\n",
    "idx_surv0_male_sbsp1 = idx_surv0_male & idx_sibsp_1\n",
    "idx_surv1_male_sbsp1 = idx_surv1_male & idx_sibsp_1\n",
    "\n",
    "# preparing a figure of four plots \n",
    "fig, axes = plt.subplots(nrows=2, ncols=2, figsize=(11,9))\n",
    "\n",
    "# preparing hight of bar charts of counts of \n",
    "#passengers in each class in each of the eight groups\n",
    "#number of females in each of the four groups (died,survived)x(alone, with sibling or spouse)\n",
    "fem_died_alone = titanic_2a_df['Pclass'][idx_surv0_fem_sbsp0].value_counts(sort=False)\n",
    "fem_survived_alone = titanic_2a_df['Pclass'][idx_surv1_fem_sbsp0].value_counts(sort=False)\n",
    "fem_died_sibsp = titanic_2a_df['Pclass'][idx_surv0_fem_sbsp1].value_counts(sort=False)\n",
    "fem_survived_sibsp = titanic_2a_df['Pclass'][idx_surv1_fem_sbsp1].value_counts(sort=False)\n",
    "#number of males in each of the four groups (died,survived)x(alone, with sibling or spouse)\n",
    "male_died_alone = titanic_2a_df['Pclass'][idx_surv0_male_sbsp0].value_counts(sort=False)\n",
    "male_survived_alone = titanic_2a_df['Pclass'][idx_surv1_male_sbsp0].value_counts(sort=False)\n",
    "male_died_sibsp = titanic_2a_df['Pclass'][idx_surv0_male_sbsp1].value_counts(sort=False)\n",
    "male_survived_sibsp = titanic_2a_df['Pclass'][idx_surv1_male_sbsp1].value_counts(sort=False)\n",
    "# number of classes\n",
    "ind = np.arange(3)\n",
    "#width of each rectangle\n",
    "width=0.3\n",
    "# the bar chart for females alone (with no sibling or spouse on board)\n",
    "rec1 = axes[0,0].bar(ind,fem_died_alone,width)\n",
    "rec2 = axes[0,0].bar(ind+width,fem_survived_alone,width)\n",
    "axes[0,0].set_title('Females without sibling or spouse on board')\n",
    "axes[0,0].set_xticks(ind+width/2)\n",
    "axes[0,0].set_xticklabels(('Upper','Middle','Lower'))\n",
    "axes[0,0].set_ylim((0,315))\n",
    "axes[0,0].legend((rec1[0],rec2[0]),surv)\n",
    "axes[0,0].set_ylim((0,200))\n",
    "axes[0,0].set_ylabel('Frequency')\n",
    "axes[0,0].set_xlabel('Class')\n",
    "\n",
    "# the bar chart for females with sibling or spouse on board\n",
    "rec1 = axes[0,1].bar(ind,fem_died_sibsp,width)\n",
    "rec2 = axes[0,1].bar(ind+width,fem_survived_sibsp,width)\n",
    "axes[0,1].set_title('Females with at least one sibling or spouse on board')\n",
    "axes[0,1].set_xticks(ind+width/2)\n",
    "axes[0,1].set_xticklabels(('Upper','Middle','Lower'))\n",
    "axes[0,1].set_ylim((0,315))\n",
    "axes[0,1].legend((rec1[0],rec2[0]),surv)\n",
    "axes[0,1].set_ylim((0,200))\n",
    "axes[0,1].set_ylabel('Frequency')\n",
    "axes[0,1].set_xlabel('Class')\n",
    "\n",
    "# the bar chart for males alone (with no sibling or spouse on board)\n",
    "rec1 = axes[1,0].bar(ind,male_died_alone,width)\n",
    "rec2 = axes[1,0].bar(ind+width,male_survived_alone,width)\n",
    "axes[1,0].set_title('Males with no sibling or spouse on board')\n",
    "axes[1,0].set_xticks(ind+width/2)\n",
    "axes[1,0].set_xticklabels(('Upper','Middle','Lower'))\n",
    "axes[1,0].set_ylim((0,315))\n",
    "axes[1,0].legend((rec1[0],rec2[0]),surv)\n",
    "axes[1,0].set_ylim((0,200))\n",
    "axes[1,0].set_ylabel('Frequency')\n",
    "axes[1,0].set_xlabel('Class')\n",
    "\n",
    "# the bar chart for males with sibling or spouse on board\n",
    "rec1 = axes[1,1].bar(ind,male_died_sibsp,width)\n",
    "rec2 = axes[1,1].bar(ind+width,male_survived_sibsp,width)\n",
    "axes[1,1].set_title('Males with at at least one sibling or spouse on board')\n",
    "axes[1,1].set_xticks(ind+width/2)\n",
    "axes[1,1].set_xticklabels(('Upper','Middle','Lower'))\n",
    "axes[1,1].set_ylim((0,315))\n",
    "axes[1,1].legend((rec1[0],rec2[0]),surv)\n",
    "axes[1,1].set_ylim((0,200))\n",
    "axes[1,1].set_ylabel('Frequency')\n",
    "axes[1,1].set_xlabel('Class')\n",
    "\n",
    "fig.suptitle('Survival patter in the three SE classes for females and males with and without\\\n",
    "sibling or spouse on beard')\n",
    "plt.show()"
   ]
  },
  {
   "cell_type": "code",
   "execution_count": 89,
   "metadata": {
    "collapsed": false
   },
   "outputs": [
    {
     "data": {
      "image/png": "[encoded data removed]",
      "text/plain": [
       "<matplotlib.figure.Figure at 0x10f27c50>"
      ]
     },
     "metadata": {},
     "output_type": "display_data"
    }
   ],
   "source": [
    "# Plot for females and males who died and survived by presence of absence of sibling or\n",
    "# spouse on board.\n",
    "\n",
    "#identify passengers with no child or parent on board\n",
    "idx_parch_0 = titanic_2a_df['Parch'] == 0\n",
    "#identify passengers with at least one child or parent on board\n",
    "idx_parch_1 = titanic_2a_df['Parch'] >= 1\n",
    "\n",
    "#identify female passengers who died or survived without child or parent on board\n",
    "idx_surv0_fem_parch0 = idx_surv0_fem & idx_parch_0\n",
    "idx_surv1_fem_parch0 = idx_surv1_fem & idx_parch_0\n",
    "#identify female passengers who died or survived with child or parent on board\n",
    "idx_surv0_fem_parch1 = idx_surv0_fem & idx_parch_1\n",
    "idx_surv1_fem_parch1 = idx_surv1_fem & idx_parch_1\n",
    "\n",
    "#identify male passengers who died or survived without child or parent on board\n",
    "idx_surv0_male_parch0 = idx_surv0_male & idx_parch_0\n",
    "idx_surv1_male_parch0 = idx_surv1_male & idx_parch_0\n",
    "#identify male passengers who died or survived with child or parent on board\n",
    "idx_surv0_male_parch1 = idx_surv0_male & idx_parch_1\n",
    "idx_surv1_male_parch1 = idx_surv1_male & idx_parch_1\n",
    "\n",
    "# counts of passengers by class in each of the eight groups\n",
    "#females with no child or parent on board\n",
    "fem_died_nopc = titanic_2a_df['Pclass'][idx_surv0_fem_parch0].value_counts(sort=False)\n",
    "fem_survived_nopc = titanic_2a_df['Pclass'][idx_surv1_fem_parch0].value_counts(sort=False)\n",
    "#females with child or parent on board\n",
    "fem_died_parch = titanic_2a_df['Pclass'][idx_surv0_fem_parch1].value_counts(sort=False)\n",
    "fem_survived_parch = titanic_2a_df['Pclass'][idx_surv1_fem_parch1].value_counts(sort=False)\n",
    "#males with no child or parent on board\n",
    "male_died_nopc = titanic_2a_df['Pclass'][idx_surv0_male_parch0].value_counts(sort=False)\n",
    "male_survived_nopc= titanic_2a_df['Pclass'][idx_surv1_male_parch0].value_counts(sort=False)\n",
    "#males with child or parent on board\n",
    "male_died_parch = titanic_2a_df['Pclass'][idx_surv0_male_parch1].value_counts(sort=False)\n",
    "male_survived_parch = titanic_2a_df['Pclass'][idx_surv1_male_parch1].value_counts(sort=False)\n",
    "\n",
    "#label\n",
    "surv=('Did not survived', 'Survived')\n",
    "#preparing figue using four bar charts\n",
    "fig, axes = plt.subplots(nrows=2, ncols=2, figsize=(12,9))\n",
    "ind = np.arange(3) #number of class groups\n",
    "width=0.3 # width of each bar\n",
    "\n",
    "#bar chart for counts of each class of females with no child or parent on board \n",
    "rec1 = axes[0,0].bar(ind,fem_died_nopc,width)\n",
    "rec2 = axes[0,0].bar(ind+width,fem_survived_nopc,width)\n",
    "axes[0,0].set_title('Females without parent or child on board')\n",
    "axes[0,0].set_xticks(ind+width/2)\n",
    "axes[0,0].set_xticklabels(('Upper','Middle','Lower'))\n",
    "axes[0,0].set_ylim((0,315))\n",
    "axes[0,0].legend((rec1[0],rec2[0]),surv)\n",
    "axes[0,0].set_ylim((0,200))\n",
    "axes[0,0].set_ylabel('Frequency')\n",
    "axes[0,0].set_xlabel('Class')\n",
    "\n",
    "#bar chart for counts of each class of females with child or parent on board \n",
    "rec1 = axes[0,1].bar(ind,fem_died_parch,width)\n",
    "rec2 = axes[0,1].bar(ind+width,fem_survived_parch,width)\n",
    "axes[0,1].set_title('Females with at least one parent or child or spouse on board')\n",
    "axes[0,1].set_xticks(ind+width/2)\n",
    "axes[0,1].set_xticklabels(('Upper','Middle','Lower'))\n",
    "axes[0,1].set_ylim((0,315))\n",
    "axes[0,1].legend((rec1[0],rec2[0]),surv)\n",
    "axes[0,1].set_ylim((0,200))\n",
    "axes[0,1].set_ylabel('Frequency')\n",
    "axes[0,1].set_xlabel('Class')\n",
    "\n",
    "#bar chart for counts of each class of males with no child or parent on board \n",
    "rec1 = axes[1,0].bar(ind,male_died_nopc,width)\n",
    "rec2 = axes[1,0].bar(ind+width,male_survived_nopc,width)\n",
    "axes[1,0].set_title('Males with no parent or child on board')\n",
    "axes[1,0].set_xticks(ind+width/2)\n",
    "axes[1,0].set_xticklabels(('Upper','Middle','Lower'))\n",
    "axes[1,0].set_ylim((0,315))\n",
    "axes[1,0].legend((rec1[0],rec2[0]),surv)\n",
    "axes[1,0].set_ylim((0,200))\n",
    "axes[1,0].set_ylabel('Frequency')\n",
    "axes[1,0].set_xlabel('Class')\n",
    "\n",
    "#bar chart for counts of each class of males with child or parent on board \n",
    "rec1 = axes[1,1].bar(ind,male_died_parch,width)\n",
    "rec2 = axes[1,1].bar(ind+width,male_survived_parch,width)\n",
    "axes[1,1].set_title('Males with at at least one parent or child on board')\n",
    "axes[1,1].set_xticks(ind+width/2)\n",
    "axes[1,1].set_xticklabels(('Upper','Middle','Lower'))\n",
    "axes[1,1].set_ylim((0,315))\n",
    "axes[1,1].legend((rec1[0],rec2[0]),surv)\n",
    "axes[1,1].set_ylim((0,200))\n",
    "axes[1,1].set_ylabel('Frequency')\n",
    "axes[1,1].set_xlabel('Class')\n",
    "\n",
    "fig.suptitle('Survival pattern based on presense of parent or child')                \n",
    "plt.show()"
   ]
  },
  {
   "cell_type": "code",
   "execution_count": 90,
   "metadata": {
    "collapsed": false
   },
   "outputs": [
    {
     "data": {
      "image/png": "[encoded data removed]",
      "text/plain": [
       "<matplotlib.figure.Figure at 0xcd9c160>"
      ]
     },
     "metadata": {},
     "output_type": "display_data"
    }
   ],
   "source": [
    "#idx_age_in  #id of passengers whose age record is available\n",
    "\n",
    "idx_surv0_fem_pclass1= idx_pclass1 & idx_surv_0 & idx_fem\n",
    "idx_surv0_fem_pclass2= idx_pclass2 & idx_surv_0 & idx_fem\n",
    "idx_surv0_fem_pclass3= idx_pclass3 & idx_surv_0 & idx_fem\n",
    "\n",
    "data_1=[titanic_2a_df['Age'][idx_surv0_fem_pclass1],titanic_2a_df['Age'][idx_surv0_fem_pclass2],\n",
    "titanic_2a_df['Age'][idx_surv0_fem_pclass3]]\n",
    "\n",
    "idx_surv1_fem_pclass1= idx_pclass1 & idx_surv_1 & idx_fem\n",
    "idx_surv1_fem_pclass2= idx_pclass2 & idx_surv_1 & idx_fem\n",
    "idx_surv1_fem_pclass3= idx_pclass3 & idx_surv_1 & idx_fem\n",
    "\n",
    "data_2=[titanic_2a_df['Age'][idx_surv1_fem_pclass1],titanic_2a_df['Age'][idx_surv1_fem_pclass2],\\\n",
    "titanic_2a_df['Age'][idx_surv1_fem_pclass3]]\n",
    "\n",
    "idx_surv0_male_pclass1= idx_pclass1 & idx_surv_0 & idx_male\n",
    "idx_surv0_male_pclass2= idx_pclass2 & idx_surv_0 & idx_male\n",
    "idx_surv0_male_pclass3= idx_pclass3 & idx_surv_0 & idx_male\n",
    "\n",
    "data_3 = [titanic_2a_df['Age'][idx_surv0_male_pclass1], \\\n",
    "titanic_2a_df['Age'][idx_surv0_male_pclass2],\\\n",
    "titanic_2a_df['Age'][idx_surv0_male_pclass3]]\n",
    "\n",
    "idx_surv1_male_pclass1= idx_pclass1 & idx_surv_1 & idx_male\n",
    "idx_surv1_male_pclass2= idx_pclass2 & idx_surv_1 & idx_male\n",
    "idx_surv1_male_pclass3= idx_pclass3 & idx_surv_1 & idx_male\n",
    "\n",
    "data_4 = [titanic_2a_df['Age'][idx_surv1_male_pclass1],\\\n",
    "titanic_2a_df['Age'][idx_surv1_male_pclass2],\\\n",
    "titanic_2a_df['Age'][idx_surv1_male_pclass3]]\n",
    "\n",
    "\n",
    "classes = ('Upper','Middle','Lower')\n",
    "fig, axes = plt.subplots(nrows=2, ncols=2, figsize=(10,10))\n",
    "axes[0,0].boxplot(data_1, showmeans = True)\n",
    "axes[0,0].set_title('Ages of females who did not survive')\n",
    "axes[0,0].set_ylim((-2,70))\n",
    "axes[0,0].set_xticklabels(classes)\n",
    "axes[0,0].set_ylabel('Age (years)')\n",
    "\n",
    "axes[0,1].boxplot(data_2, showmeans = True)\n",
    "axes[0,1].set_title('Ages of females who survived')\n",
    "axes[0,1].set_ylim((-2,70))\n",
    "axes[0,1].set_xticklabels(classes)\n",
    "axes[0,1].set_ylabel('Age (years)')\n",
    "\n",
    "axes[1,0].boxplot(data_3, showmeans = True)\n",
    "axes[1,0].set_title('Ages of males who did not survive')\n",
    "axes[1,0].set_ylim((-2,70))\n",
    "axes[1,0].set_xticklabels(classes)\n",
    "axes[1,0].set_ylabel('Age (years)')\n",
    "axes[1,0].set_xlabel('Class')\n",
    "\n",
    "axes[1,1].boxplot(data_4, showmeans = True)\n",
    "axes[1,1].set_title('Ages of males who survived')\n",
    "axes[1,1].set_ylim((-2,70))\n",
    "axes[1,1].set_xticklabels(classes)\n",
    "axes[1,1].set_ylabel('Age (years)')\n",
    "axes[1,1].set_xlabel('Class')\n",
    "\n",
    "plt.show()"
   ]
  },
  {
   "cell_type": "markdown",
   "metadata": {},
   "source": [
    "A bar chart that shows how SE classes and sex are distribted across counts of tickets with multiple passengers among those who survived and those who did not survive.\n",
    "\n",
    "Observe the differences between females and males in the three socio-economic classes. There is more males who did not survive and more from the lower class did not survive. However, we recall that 65% among all passengers are males and 70% among lower class passengers are males. Therefore one conjucture that males were either left out or ignored while giving priority for females and younger passenger and other male with families to be rescued. \n",
    "\n",
    "There are 169 lower class males with a single ticket who did not survive. The plot below is cut-off below at 100 so that other bare not too squashed down. "
   ]
  },
  {
   "cell_type": "code",
   "execution_count": 97,
   "metadata": {
    "collapsed": false
   },
   "outputs": [
    {
     "data": {
      "image/png": "[encoded data removed]",
      "text/plain": [
       "<matplotlib.figure.Figure at 0x11424f60>"
      ]
     },
     "metadata": {},
     "output_type": "display_data"
    }
   ],
   "source": [
    "# histogram/bar chart of number of passenger per ticket\n",
    "\n",
    "#identify female passengers who died in each class\n",
    "idx_surv0_fem_pclass1= idx_pclass1 & idx_surv_0 & idx_fem\n",
    "idx_surv0_fem_pclass2= idx_pclass2 & idx_surv_0 & idx_fem\n",
    "idx_surv0_fem_pclass3= idx_pclass3 & idx_surv_0 & idx_fem\n",
    "\n",
    "# list of number of female passengers who died  per ticket\n",
    "data_1 = [titanic_2a_df['Tcount'][idx_surv0_fem_pclass1],\\\n",
    "titanic_2a_df['Tcount'][idx_surv0_fem_pclass2],\\\n",
    "titanic_2a_df['Tcount'][idx_surv0_fem_pclass3]]\n",
    "\n",
    "# identify female passengers who survived in each class\n",
    "idx_surv1_fem_pclass1= idx_pclass1 & idx_surv_1 & idx_fem\n",
    "idx_surv1_fem_pclass2= idx_pclass2 & idx_surv_1 & idx_fem\n",
    "idx_surv1_fem_pclass3= idx_pclass3 & idx_surv_1 & idx_fem\n",
    "\n",
    "# list of number of female passengers who survived  per ticket\n",
    "data_2 = [titanic_2a_df['Tcount'][idx_surv1_fem_pclass1],titanic_2a_df['Tcount'][idx_surv1_fem_pclass2],\\\n",
    "titanic_2a_df['Tcount'][idx_surv1_fem_pclass3]]\n",
    "\n",
    "#identify male passengers who died in each class\n",
    "idx_surv0_male_pclass1= (titanic_2a_df['Pclass'] == 1) & (titanic_2a_df['Survived'] == 0) & \\\n",
    "(titanic_2a_df['Sex'] == 'male')\n",
    "idx_surv0_male_pclass2= idx_pclass2 & idx_surv_0 & idx_male\n",
    "idx_surv0_male_pclass3= idx_pclass3 & idx_surv_0 & idx_male\n",
    "\n",
    "# list of number of male passengers who died  per ticket\n",
    "data_3 = [titanic_2a_df['Tcount'][idx_surv0_male_pclass1], \\\n",
    "titanic_2a_df['Tcount'][idx_surv0_male_pclass2],\\\n",
    "titanic_2a_df['Tcount'][idx_surv0_male_pclass3]]\n",
    "\n",
    "#identify male passengers who survived in each class\n",
    "idx_surv1_male_pclass1= idx_pclass1 & idx_surv_1 & idx_male\n",
    "idx_surv1_male_pclass2= idx_pclass2 & idx_surv_1 & idx_male\n",
    "idx_surv1_male_pclass3= idx_pclass3 & idx_surv_1 & idx_male\n",
    "\n",
    "# list of number of male passengers who survived  per ticket\n",
    "data_4 = [titanic_2a_df['Tcount'][idx_surv1_male_pclass1], \\\n",
    "titanic_2a_df['Tcount'][idx_surv1_male_pclass2],\\\n",
    "titanic_2a_df['Tcount'][idx_surv1_male_pclass3]]\n",
    "\n",
    "#x-axis label and range\n",
    "x_range=np.arange(1,max(titanic_2a_df['Tcount'])+1)\n",
    "#legend label\n",
    "pclass=('Upper','Middle','Lower')\n",
    "#preparing the figure for four subplots\n",
    "fig, axes = plt.subplots(nrows=2, ncols=2, figsize=(10,11))\n",
    "# histogram of females who died per ticket count\n",
    "axes[0,0].hist(data_1, rwidth=0.8, label=pclass)\n",
    "axes[0,0].set_ylim((0,100))\n",
    "axes[0,0].set_xticks(x_range)\n",
    "axes[0,0].set_xticklabels(x_range)\n",
    "# histogram of females who survived per ticket count\n",
    "axes[0,1].hist(data_2,rwidth=2.8, label=pclass)\n",
    "axes[0,1].set_ylim((0,100))\n",
    "axes[0,1].set_xticks(x_range)\n",
    "axes[0,1].set_xticklabels(x_range)\n",
    "# histogram of males who died per ticket count\n",
    "axes[1,0].hist(data_3,rwidth=0.7, label=pclass)\n",
    "axes[1,0].set_ylim((0,120))\n",
    "axes[1,0].set_xticks(x_range)\n",
    "axes[1,0].set_xticklabels(x_range)\n",
    "# histogram of males who survived per ticket count\n",
    "axes[1,1].hist(data_4,rwidth=0.7, label=pclass)\n",
    "axes[1,1].set_ylim((0,120))\n",
    "axes[1,1].set_xticks(x_range)\n",
    "axes[1,1].set_xticklabels(x_range)\n",
    "axes[0,1].legend()\n",
    "axes[1,1].legend()\n",
    "axes[0,0].set_title('Females who did not survive')\n",
    "axes[0,1].set_title('Females who survived')\n",
    "axes[1,0].set_title('Males who did not survive')\n",
    "axes[1,1].set_title('Males who servived')\n",
    "axes[0,0].set_ylabel('Frequency')\n",
    "axes[0,1].set_ylabel('Frequency')\n",
    "axes[1,0].set_ylabel('Frequency')\n",
    "axes[1,1].set_ylabel('Frequency')\n",
    "axes[0,0].set_xlabel('Passenger(s) per ticket')\n",
    "axes[0,1].set_xlabel('Passenger(s) per ticket')\n",
    "axes[1,0].set_xlabel('Passenger(s) per ticket')\n",
    "axes[1,1].set_xlabel('Passenger(s) per ticket')\n",
    "\n",
    "fig.suptitle('Counts of tickets of multiple passengers in various groups')\n",
    "plt.show()\n"
   ]
  },
  {
   "cell_type": "markdown",
   "metadata": {},
   "source": [
    "The bar plot below shows the proportion of those who survived among females and males in each class. The proportions are based on bootstrap of 1000 resampling from the data. \n",
    "\n",
    "Observe that females are more likely to survive than males and those from the upper class are more likely to survive either females or males.\n",
    "\n",
    "Later we will look at a statistical model that includes also the age and other factors."
   ]
  },
  {
   "cell_type": "code",
   "execution_count": 98,
   "metadata": {
    "collapsed": false
   },
   "outputs": [
    {
     "data": {
      "image/png": "[encoded data removed]",
      "text/plain": [
       "<matplotlib.figure.Figure at 0xe8ef630>"
      ]
     },
     "metadata": {},
     "output_type": "display_data"
    }
   ],
   "source": [
    "sns.factorplot(x='Class',y='Survived',col='Sex',kind='bar',data=titanic_df)\n",
    "plt.show()"
   ]
  },
  {
   "cell_type": "code",
   "execution_count": 99,
   "metadata": {
    "collapsed": false
   },
   "outputs": [
    {
     "name": "stdout",
     "output_type": "stream",
     "text": [
      "Pclass  Sex     SibSp\n",
      "1       female  0         46\n",
      "                1         34\n",
      "                2          3\n",
      "                3          2\n",
      "        male    0         67\n",
      "                1         31\n",
      "                2          2\n",
      "                3          1\n",
      "2       female  0         42\n",
      "                1         28\n",
      "                2          3\n",
      "                3          1\n",
      "        male    0         67\n",
      "                1         27\n",
      "                2          5\n",
      "3       female  0         56\n",
      "                1         28\n",
      "                2          6\n",
      "                3          5\n",
      "                4          6\n",
      "                5          1\n",
      "        male    0        193\n",
      "                1         35\n",
      "                2          6\n",
      "                3          3\n",
      "                4         12\n",
      "                5          4\n",
      "Name: PassengerId, dtype: int64\n"
     ]
    }
   ],
   "source": [
    "if  False: \n",
    "    titanic_2a_df.groupby(['Pclass','Sex','Survived','Tcount'])['PassengerId'].count()\n",
    "    \n",
    "if True:\n",
    "    print titanic_2a_df.groupby(['Pclass','Sex','SibSp'])['PassengerId'].count()"
   ]
  },
  {
   "cell_type": "code",
   "execution_count": 100,
   "metadata": {
    "collapsed": false
   },
   "outputs": [
    {
     "data": {
      "text/plain": [
       "Pclass  Tcount\n",
       "1       1         37.493888\n",
       "        2         41.083335\n",
       "        3         69.172400\n",
       "        4         40.689879\n",
       "2       1         13.596527\n",
       "        2         13.262067\n",
       "        3          9.010973\n",
       "        5         14.700000\n",
       "3       1          8.162540\n",
       "        2          8.316588\n",
       "        3          6.361108\n",
       "        4          3.694531\n",
       "        5          5.825000\n",
       "        6          6.524132\n",
       "        7          6.869838\n",
       "Name: Fare_pp, dtype: float64"
      ]
     },
     "execution_count": 100,
     "metadata": {},
     "output_type": "execute_result"
    }
   ],
   "source": [
    "titanic_2a_df[titanic_2a_df['Sex']=='male'].groupby(['Pclass','Tcount'])['Fare_pp'].mean()"
   ]
  },
  {
   "cell_type": "markdown",
   "metadata": {},
   "source": [
    "I used the statistical software R to perform logistic regression analysis. The analysis showed that the only statistically significant variables are SE class, Sex, Age, and Sibling/Spouse or Tcount. The model is slightly stronger with Sibling/Spouse variable rather than Tcount. The two variables are correlated (0.66) and so one of the two is sufficient. \n",
    "\n",
    "Below I list for special cases the probability of survival based on this model. Since the age is included in the model, it is based only on passengers whose age is recorded.\n",
    "\n",
    "The model shows that all factors negatively affects the chance to survive with upper class females with no sibling/spouse having the highest probability, and lower class men with sibling/spouse at the very bottom with very low probability. "
   ]
  },
  {
   "cell_type": "code",
   "execution_count": 101,
   "metadata": {
    "collapsed": false,
    "scrolled": true
   },
   "outputs": [
    {
     "name": "stdout",
     "output_type": "stream",
     "text": [
      "For females from the upper class of age:\n",
      "50, with no sibling/spouse has probability of survival 0.89\n",
      "30, with no sibling/spouse has probability of survival 0.95\n",
      "30, with one sibling/spouse has probability of survival 0.93\n",
      "10, with one sibling has probability of survival 0.97\n",
      " \n",
      "For females from the middle class of age:\n",
      "50, with no sibling/spouse has probability of survival 0.66\n",
      "30, with no sibling/spouse has probability of survival 0.83\n",
      "30, with one sibling/spouse has probability of survival 0.77\n",
      "10, with one sibling has probability of survival 0.89\n",
      " \n",
      "For females from the lower class of age:\n",
      "50, with no sibling/spouse has probability of survival 0.36\n",
      "30, with no sibling/spouse has probability of survival 0.58\n",
      "30, with one sibling/spouse has probability of survival 0.49\n",
      "10, with one sibling has probability of survival 0.7\n",
      " \n",
      "For males from the upper class of age:\n",
      "50, with no sibling/spouse has probability of survival 0.37\n",
      "30, with no sibling/spouse has probability of survival 0.59\n",
      "30, with one sibling/spouse has probability of survival 0.49\n",
      "10, with one sibling has probability of survival 0.71\n",
      " \n",
      "For males from the middle class of age:\n",
      "50, with no sibling/spouse has probability of survival 0.12\n",
      "30, with no sibling/spouse has probability of survival 0.26\n",
      "30, with one sibling/spouse has probability of survival 0.19\n",
      "10, with one sibling has probability of survival 0.37\n",
      " \n",
      "For males from the lower class of age:\n",
      "50, with no sibling/spouse has probability of survival 0.04\n",
      "30, with no sibling/spouse has probability of survival 0.09\n",
      "30, with one sibling/spouse has probability of survival 0.06\n",
      "10, with one sibling has probability of survival 0.14\n"
     ]
    }
   ],
   "source": [
    "def prob_survival(pclass,sex,age,sibsp):\n",
    "    #glm(formula = Survived ~ Pclass + Sex + Age + SibSp, family = binomial(link = \"logit\"), \n",
    "    #data = titanic.df)\n",
    "\n",
    "    #Coefficients:\n",
    "    #             Estimate Std. Error z value Pr(>|z|)    \n",
    "    #(Intercept)  4.334201   0.450700   9.617  < 2e-16 ***\n",
    "    #Pclass2     -1.414360   0.284727  -4.967 6.78e-07 ***\n",
    "    #Pclass3     -2.652618   0.285832  -9.280  < 2e-16 ***\n",
    "    #Sexmale     -2.627679   0.214771 -12.235  < 2e-16 ***\n",
    "    #Age         -0.044760   0.008225  -5.442 5.27e-08 ***\n",
    "    #SibSp       -0.380190   0.121516  -3.129  0.00176 ** \n",
    "    #---\n",
    "    #Signif. codes:  0 ‘***’ 0.001 ‘**’ 0.01 ‘*’ 0.05 ‘.’ 0.1 ‘ ’ 1 \n",
    "\n",
    "    #(Dispersion parameter for binomial family taken to be 1)\n",
    "\n",
    "    #Null deviance: 964.52  on 713  degrees of freedom\n",
    "    #Residual deviance: 636.56  on 708  degrees of freedom\n",
    "      #(177 observations deleted due to missingness)\n",
    "    #AIC: 648.56\n",
    "    \n",
    "    E = np.exp(4.334201 - 1.41*(pclass == 2)-2.65*(pclass ==3)-2.63*(sex == 'male') \\\n",
    "               -0.045*age-0.38*sibsp)\n",
    "    return E/(1+E)\n",
    "print 'For females from the upper class of age:'\n",
    "\n",
    "print '50, with no sibling/spouse has probability of survival',\\\n",
    "round(prob_survival(1,'female',50,0),2)\n",
    "\n",
    "print '30, with no sibling/spouse has probability of survival',\\\n",
    "round(prob_survival(1,'female',30,0),2)\n",
    "\n",
    "print '30, with one sibling/spouse has probability of survival',\\\n",
    "round(prob_survival(1,'female',30,1),2)\n",
    "\n",
    "print '10, with one sibling has probability of survival',\\\n",
    "round(prob_survival(1,'female',10,1),2)\n",
    "\n",
    "print ' '\n",
    "print 'For females from the middle class of age:'\n",
    "\n",
    "print '50, with no sibling/spouse has probability of survival',\\\n",
    "round(prob_survival(2,'female',50,0),2)\n",
    "\n",
    "print '30, with no sibling/spouse has probability of survival',\\\n",
    "round(prob_survival(2,'female',30,0),2)\n",
    "\n",
    "print '30, with one sibling/spouse has probability of survival',\\\n",
    "round(prob_survival(2,'female',30,1),2)\n",
    "\n",
    "print '10, with one sibling has probability of survival',\\\n",
    "round(prob_survival(2,'female',10,1),2)\n",
    "\n",
    "print ' '\n",
    "print 'For females from the lower class of age:'\n",
    "\n",
    "print '50, with no sibling/spouse has probability of survival',\\\n",
    "round(prob_survival(3,'female',50,0),2)\n",
    "\n",
    "print '30, with no sibling/spouse has probability of survival',\\\n",
    "round(prob_survival(3,'female',30,0),2)\n",
    "\n",
    "print '30, with one sibling/spouse has probability of survival',\\\n",
    "round(prob_survival(3,'female',30,1),2)\n",
    "\n",
    "print '10, with one sibling has probability of survival',\\\n",
    "round(prob_survival(3,'female',10,1),2)\n",
    "\n",
    "print ' '\n",
    "print 'For males from the upper class of age:'\n",
    "\n",
    "print '50, with no sibling/spouse has probability of survival',\\\n",
    "round(prob_survival(1,'male',50,0),2)\n",
    "\n",
    "print '30, with no sibling/spouse has probability of survival',\\\n",
    "round(prob_survival(1,'male',30,0),2)\n",
    "\n",
    "print '30, with one sibling/spouse has probability of survival',\\\n",
    "round(prob_survival(1,'male',30,1),2)\n",
    "\n",
    "print '10, with one sibling has probability of survival',\\\n",
    "round(prob_survival(1,'male',10,1),2)\n",
    "\n",
    "print ' '\n",
    "print 'For males from the middle class of age:'\n",
    "\n",
    "print '50, with no sibling/spouse has probability of survival',\\\n",
    "round(prob_survival(2,'male',50,0),2)\n",
    "\n",
    "print '30, with no sibling/spouse has probability of survival',\\\n",
    "round(prob_survival(2,'male',30,0),2)\n",
    "\n",
    "print '30, with one sibling/spouse has probability of survival',\\\n",
    "round(prob_survival(2,'male',30,1),2)\n",
    "\n",
    "print '10, with one sibling has probability of survival',\\\n",
    "round(prob_survival(2,'male',10,1),2)\n",
    "\n",
    "print ' '\n",
    "print 'For males from the lower class of age:'\n",
    "\n",
    "print '50, with no sibling/spouse has probability of survival',\\\n",
    "round(prob_survival(3,'male',50,0),2)\n",
    "\n",
    "print '30, with no sibling/spouse has probability of survival',\\\n",
    "round(prob_survival(3,'male',30,0),2)\n",
    "\n",
    "print '30, with one sibling/spouse has probability of survival',\\\n",
    "round(prob_survival(3,'male',30,1),2)\n",
    "\n",
    "print '10, with one sibling has probability of survival',\\\n",
    "round(prob_survival(3,'male',10,1),2)\n",
    "\n"
   ]
  },
  {
   "cell_type": "code",
   "execution_count": null,
   "metadata": {
    "collapsed": true
   },
   "outputs": [],
   "source": [
    "#sns.pointplot(x=\"sex\", y=\"survived\", hue=\"class\", data=titanic);"
   ]
  },
  {
   "cell_type": "markdown",
   "metadata": {},
   "source": [
    "### Summary and conclusion:\n",
    "\n",
    "We presented analysis of the titanic data set. We found that there are missing data in the age, cabin and embarked variables. The age and cabin variables show bias against the lower class passenger and males in particular. When we examined the survival pattern we found that the most passengers who are at risk (did not survive) are the lower class males in particular, many of whome had no cabin in record. \n",
    "\n",
    "Some of the exploration was done with all passengers while others in paticular survival analysis was done only on passengers whose age is in record. However, since we understand the composition of the passengers whose age is missing (mainly lower class males).\n",
    "\n",
    "Understanding fare, embarkation site pattern where not age dependent so, I found not reason to exclude data of passengers whose age is missing for these analyses. \n",
    "\n",
    "The passenger population aboard the Titanic tend to be young with a mean around 28 years and standard deviation of 15 years. However, the upper class passengers tend to be older around 38 on average while the lower class tend to be younger around 25 on average. In each of the classes the females tend to be on average youner than the males. \n",
    "\n",
    "Moreover, 65% of all passengers are males, 60% of the males are in the lower SE class, 21% of the males are in the upper class while 19% are in the middle class.\n",
    "\n",
    "Upper class female compose 30% of all the female population, the middle class compose 24%, while the lower class females compose 46%. \n",
    "\n",
    "When we examined the fares paid by for each ticket there was no relation between fare and age but there is considerable variability within each of the socio-economic (SE) classes \n",
    "and in particular among the upper class. \n",
    "\n",
    "We discovered that there are passengers who share the same ticket, so when we adjust the fare by dividing the fare of the ticket by the number of passengers who are sharing it, we found that the variability of adjusted fare withing each SE class is reduced. However the upper class variability was still higher.  \n",
    "\n",
    "The cabin data is recorded mainly for upper class passengers and who had paid higher fares compared to middle and lower class passengers. \n",
    "\n",
    "The embarkation site showed a distinct pattern for the upper class compared to the other two.\n",
    "Lower and middle class passengers embarked mainly from Southampton, relatively much less from the to the other two sites. When they did embark from Cherbourg they where either singles or couples. The upper class however embarked relatively more from Cherbourg and they did this as singles, or couples on the same ticket or three shared the same ticket or four shared the same ticket. These are also passengers who had cabins and paid higher fares.\n",
    "\n",
    "Analysing the fare of upper class passengers who embarked from the three ports we found that those who embarked from Chergourg paid the highest on average and in particular this group showed the most variability. \n",
    "However among the upper class passenger there are those whose fare is as low as the lower class and this has no clear explanation. \n",
    "\n",
    "We also found that 39% of all the passengers shared a ticket with someone and also around 39% of the passengers shared the same last name. We assume that most of these passengers are families traveling together. \n",
    "\n",
    "When it comes to survival prediction, one would hypothesize that the group that is more at risk is the one that there are more of. So lower class males, followed by lower class females.\n",
    "Also I would assume that traveling alone would put a traveler at more risk of not surviving since more related people are more likely to look for each other and hence higher chance to survive. \n",
    "\n",
    "Would fare affect survival risk? Well, given that fare is more tied to socio-econmic class and knowing that there is a great variability at least within the upper class, its very unlikely that it would show much of relation. \n",
    "\n",
    "Would site of embarkation relate to survival risk? Since most passengers embarked from Southampton port and those who embarked from the other ports, particularly Cherbourg are almost evenly divided between the upper and lower classes, it is less likely to make much of difference. However, the upper class passengers who embarked from Cherbourg are more likely to survive since they paid well for their cabins giving them priority somehow.\n",
    "\n",
    "The logistic statistical model showed that the only variable that are significant are age, socio-economic class, sex, and having a sibling or spouse. The model predicts that upper class females have the highest chance of survival as most bar charts indicated. However,the lower the socio-economic class, the higher the age, the more the siblings or a spouse the lower the chance of survival. Being a male or of a lower socio-economic class lowers the chance of survival too. \n",
    "\n",
    "For further study of the data set, I would look more into passengers with the same last name since it combines children, parents, children or many times a spouse. How would the last name compare to the siblig/spouse or parent/child variables in their effect to the chance to survive?\n",
    "\n",
    "Another point to look at, is to try to fill in the missing age variables. I can think of a couple of ways either by simply sampling age from a normal distirbution using the mean age per class, since the mean of the lower class is different from the lower class so these passengers are sampled from different normal distirbutions. \n",
    "\n",
    "Alternatively, we can first predict the age of the missing based on a statistical model using age values in record as well as the other variables and then sample from a normal distibution given the mean and standard error as described by the model. \n",
    "\n",
    "One would wonder if it possible to find patterns of availabel cabin assigment, and then use it to predict cabin pattern of the missing ones based on characteristics of the passengers. This is a third direction to explore but not sure it is feasible. \n"
   ]
  },
  {
   "cell_type": "markdown",
   "metadata": {},
   "source": [
    "### Acknowladgment :\n",
    "\n",
    "I am very grateful for the reviwers for feeback in improving the presentation and improving the efficiecy of my code and graphs. "
   ]
  },
  {
   "cell_type": "markdown",
   "metadata": {},
   "source": [
    "### References:\n",
    "\n",
    "I used stackoverflow.com as well as matplotlib.org extensively. Some examples are listed below.\n",
    "\n",
    "https://stackoverflow.com/questions/10715965/add-one-row-in-a-pandas-dataframe\n",
    "\n",
    "https://stackoverflow.com/questions/42768086/pandas-lookup-with-long-and-nested-conditions?noredirect=1&lq=1\n",
    "\n",
    "https://stackoverflow.com/questions/21733893/pandas-dataframe-add-a-field-based-on-multiple-if-statements\n",
    "\n",
    "https://stackoverflow.com/questions/13784192/creating-an-empty-pandas-dataframe-then-filling-it\n",
    "\n",
    "http://pandas.pydata.org/pandas-docs/stable/merging.html#brief-primer-on-merge-methods-relational-algebra\n",
    "\n",
    "https://stackoverflow.com/questions/36305695/assign-a-color-to-a-specific-box-in-seaborn-boxplot"
   ]
  },
  {
   "cell_type": "code",
   "execution_count": null,
   "metadata": {
    "collapsed": true
   },
   "outputs": [],
   "source": []
  }
 ],
 "metadata": {
  "kernelspec": {
   "display_name": "Python 2",
   "language": "python",
   "name": "python2"
  },
  "language_info": {
   "codemirror_mode": {
    "name": "ipython",
    "version": 2
   },
   "file_extension": ".py",
   "mimetype": "text/x-python",
   "name": "python",
   "nbconvert_exporter": "python",
   "pygments_lexer": "ipython2",
   "version": "2.7.13"
  }
 },
 "nbformat": 4,
 "nbformat_minor": 2
}
